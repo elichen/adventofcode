{
  "nbformat": 4,
  "nbformat_minor": 0,
  "metadata": {
    "colab": {
      "provenance": [],
      "authorship_tag": "ABX9TyNOQ4/MKGKsU9QgK54cRVFm",
      "include_colab_link": true
    },
    "kernelspec": {
      "name": "python3",
      "display_name": "Python 3"
    },
    "language_info": {
      "name": "python"
    }
  },
  "cells": [
    {
      "cell_type": "markdown",
      "metadata": {
        "id": "view-in-github",
        "colab_type": "text"
      },
      "source": [
        "<a href=\"https://colab.research.google.com/github/elichen/adventofcode/blob/main/Day_19_Go_With_The_Flow.ipynb\" target=\"_parent\"><img src=\"https://colab.research.google.com/assets/colab-badge.svg\" alt=\"Open In Colab\"/></a>"
      ]
    },
    {
      "cell_type": "code",
      "execution_count": 26,
      "metadata": {
        "id": "XzujJJ1LMrFt"
      },
      "outputs": [],
      "source": [
        "class Device:\n",
        "    def __init__(self):\n",
        "        self.registers = [0, 0, 0, 0, 0, 0]\n",
        "        self.ip = 0\n",
        "        self.ip_binding = None\n",
        "\n",
        "    def execute(self, instruction):\n",
        "        if self.ip_binding != None: self.registers[self.ip_binding] = self.ip\n",
        "        opcode, a, b, c = instruction\n",
        "        getattr(self, opcode)(a, b, c)\n",
        "        if self.ip_binding != None: self.ip = self.registers[self.ip_binding]\n",
        "\n",
        "    def addr(self, a, b, c):\n",
        "        self.registers[c] = self.registers[a] + self.registers[b]\n",
        "\n",
        "    def addi(self, a, b, c):\n",
        "        self.registers[c] = self.registers[a] + b\n",
        "\n",
        "    def mulr(self, a, b, c):\n",
        "        self.registers[c] = self.registers[a] * self.registers[b]\n",
        "\n",
        "    def muli(self, a, b, c):\n",
        "        self.registers[c] = self.registers[a] * b\n",
        "\n",
        "    def banr(self, a, b, c):\n",
        "        self.registers[c] = self.registers[a] & self.registers[b]\n",
        "\n",
        "    def bani(self, a, b, c):\n",
        "        self.registers[c] = self.registers[a] & b\n",
        "\n",
        "    def borr(self, a, b, c):\n",
        "        self.registers[c] = self.registers[a] | self.registers[b]\n",
        "\n",
        "    def bori(self, a, b, c):\n",
        "        self.registers[c] = self.registers[a] | b\n",
        "\n",
        "    def setr(self, a, _, c):\n",
        "        self.registers[c] = self.registers[a]\n",
        "\n",
        "    def seti(self, a, _, c):\n",
        "        self.registers[c] = a\n",
        "\n",
        "    def gtir(self, a, b, c):\n",
        "        self.registers[c] = 1 if a > self.registers[b] else 0\n",
        "\n",
        "    def gtri(self, a, b, c):\n",
        "        self.registers[c] = 1 if self.registers[a] > b else 0\n",
        "\n",
        "    def gtrr(self, a, b, c):\n",
        "        self.registers[c] = 1 if self.registers[a] > self.registers[b] else 0\n",
        "\n",
        "    def eqir(self, a, b, c):\n",
        "        self.registers[c] = 1 if a == self.registers[b] else 0\n",
        "\n",
        "    def eqri(self, a, b, c):\n",
        "        self.registers[c] = 1 if self.registers[a] == b else 0\n",
        "\n",
        "    def eqrr(self, a, b, c):\n",
        "        self.registers[c] = 1 if self.registers[a] == self.registers[b] else 0"
      ]
    },
    {
      "cell_type": "code",
      "source": [
        "data = \"\"\"#ip 0\n",
        "seti 5 0 1\n",
        "seti 6 0 2\n",
        "addi 0 1 0\n",
        "addr 1 2 3\n",
        "setr 1 0 0\n",
        "seti 8 0 4\n",
        "seti 9 0 5\"\"\".split('\\n')"
      ],
      "metadata": {
        "id": "mvjhK8IpHXh_"
      },
      "execution_count": 27,
      "outputs": []
    },
    {
      "cell_type": "code",
      "source": [
        "data = [x.rstrip() for x in open(\"input.txt\").readlines()]"
      ],
      "metadata": {
        "id": "y_4yErwgTwwg"
      },
      "execution_count": 28,
      "outputs": []
    },
    {
      "cell_type": "code",
      "source": [
        "def parse_instructions(input_list):\n",
        "    ip_binding = None\n",
        "    instructions = []\n",
        "\n",
        "    for line in input_list:\n",
        "        if line.startswith('#ip'):\n",
        "            ip_binding = int(line.split()[1])\n",
        "        else:\n",
        "            parts = line.split()\n",
        "            opcode = parts[0]\n",
        "            operands = list(map(int, parts[1:]))\n",
        "            instructions.append((opcode, *operands))\n",
        "\n",
        "    return ip_binding, instructions"
      ],
      "metadata": {
        "id": "yjddxlZcS67g"
      },
      "execution_count": 29,
      "outputs": []
    },
    {
      "cell_type": "code",
      "source": [
        "device = Device()\n",
        "ip_binding, instructions = parse_instructions(data)\n",
        "device.ip_binding = ip_binding\n",
        "while device.ip < len(instructions):\n",
        "    line = instructions[device.ip]\n",
        "    device.execute(line)\n",
        "    device.ip += 1\n",
        "device.registers"
      ],
      "metadata": {
        "colab": {
          "base_uri": "https://localhost:8080/"
        },
        "id": "EHEyR0jCHR2T",
        "outputId": "bfefb4b8-47af-41f8-bb42-735a122ef234"
      },
      "execution_count": 30,
      "outputs": [
        {
          "output_type": "execute_result",
          "data": {
            "text/plain": [
              "[1464, 1, 256, 974, 975, 975]"
            ]
          },
          "metadata": {},
          "execution_count": 30
        }
      ]
    },
    {
      "cell_type": "code",
      "source": [
        "device = Device()\n",
        "device.registers[0] = 1\n",
        "ip_binding, instructions = parse_instructions(data)\n",
        "device.ip_binding = ip_binding\n",
        "while device.ip < len(instructions):\n",
        "    line = instructions[device.ip]\n",
        "    device.execute(line)\n",
        "    device.ip += 1\n",
        "device.registers"
      ],
      "metadata": {
        "id": "TiPs47lkSeoY"
      },
      "execution_count": null,
      "outputs": []
    }
  ]
}