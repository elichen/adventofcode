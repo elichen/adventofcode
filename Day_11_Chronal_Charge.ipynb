{
  "nbformat": 4,
  "nbformat_minor": 0,
  "metadata": {
    "colab": {
      "provenance": [],
      "authorship_tag": "ABX9TyNiJyU80LRqPCmHBxSPq7RV",
      "include_colab_link": true
    },
    "kernelspec": {
      "name": "python3",
      "display_name": "Python 3"
    },
    "language_info": {
      "name": "python"
    },
    "widgets": {
      "application/vnd.jupyter.widget-state+json": {
        "f7d0e309649a43ffa21b73b2fde9ffc4": {
          "model_module": "@jupyter-widgets/controls",
          "model_name": "HBoxModel",
          "model_module_version": "1.5.0",
          "state": {
            "_dom_classes": [],
            "_model_module": "@jupyter-widgets/controls",
            "_model_module_version": "1.5.0",
            "_model_name": "HBoxModel",
            "_view_count": null,
            "_view_module": "@jupyter-widgets/controls",
            "_view_module_version": "1.5.0",
            "_view_name": "HBoxView",
            "box_style": "",
            "children": [
              "IPY_MODEL_265a2b7f7cb64589a7b88e6b89c9ce77",
              "IPY_MODEL_c2cf8a44c96a41028f04b2ec7d82c438",
              "IPY_MODEL_c2ea6e0cebaa4b6198d99b16d468f9ac"
            ],
            "layout": "IPY_MODEL_0afb275573b64446b32128d252e7b474"
          }
        },
        "265a2b7f7cb64589a7b88e6b89c9ce77": {
          "model_module": "@jupyter-widgets/controls",
          "model_name": "HTMLModel",
          "model_module_version": "1.5.0",
          "state": {
            "_dom_classes": [],
            "_model_module": "@jupyter-widgets/controls",
            "_model_module_version": "1.5.0",
            "_model_name": "HTMLModel",
            "_view_count": null,
            "_view_module": "@jupyter-widgets/controls",
            "_view_module_version": "1.5.0",
            "_view_name": "HTMLView",
            "description": "",
            "description_tooltip": null,
            "layout": "IPY_MODEL_598ba90f4b3c47d89dcdaa58ab690951",
            "placeholder": "​",
            "style": "IPY_MODEL_8d9b8af44a254ac1a027722067a9d3a0",
            "value": "100%"
          }
        },
        "c2cf8a44c96a41028f04b2ec7d82c438": {
          "model_module": "@jupyter-widgets/controls",
          "model_name": "FloatProgressModel",
          "model_module_version": "1.5.0",
          "state": {
            "_dom_classes": [],
            "_model_module": "@jupyter-widgets/controls",
            "_model_module_version": "1.5.0",
            "_model_name": "FloatProgressModel",
            "_view_count": null,
            "_view_module": "@jupyter-widgets/controls",
            "_view_module_version": "1.5.0",
            "_view_name": "ProgressView",
            "bar_style": "success",
            "description": "",
            "description_tooltip": null,
            "layout": "IPY_MODEL_0911eb45d13240b1a46bb38b5c581bdb",
            "max": 300,
            "min": 0,
            "orientation": "horizontal",
            "style": "IPY_MODEL_1d5b33c0444141cb9732d60eb5cae964",
            "value": 300
          }
        },
        "c2ea6e0cebaa4b6198d99b16d468f9ac": {
          "model_module": "@jupyter-widgets/controls",
          "model_name": "HTMLModel",
          "model_module_version": "1.5.0",
          "state": {
            "_dom_classes": [],
            "_model_module": "@jupyter-widgets/controls",
            "_model_module_version": "1.5.0",
            "_model_name": "HTMLModel",
            "_view_count": null,
            "_view_module": "@jupyter-widgets/controls",
            "_view_module_version": "1.5.0",
            "_view_name": "HTMLView",
            "description": "",
            "description_tooltip": null,
            "layout": "IPY_MODEL_53c3a296a2e640d383389dd25f077e9a",
            "placeholder": "​",
            "style": "IPY_MODEL_4ce9f33db1e84d85a672d0e7afe6281e",
            "value": " 300/300 [02:06&lt;00:00, 28.53it/s]"
          }
        },
        "0afb275573b64446b32128d252e7b474": {
          "model_module": "@jupyter-widgets/base",
          "model_name": "LayoutModel",
          "model_module_version": "1.2.0",
          "state": {
            "_model_module": "@jupyter-widgets/base",
            "_model_module_version": "1.2.0",
            "_model_name": "LayoutModel",
            "_view_count": null,
            "_view_module": "@jupyter-widgets/base",
            "_view_module_version": "1.2.0",
            "_view_name": "LayoutView",
            "align_content": null,
            "align_items": null,
            "align_self": null,
            "border": null,
            "bottom": null,
            "display": null,
            "flex": null,
            "flex_flow": null,
            "grid_area": null,
            "grid_auto_columns": null,
            "grid_auto_flow": null,
            "grid_auto_rows": null,
            "grid_column": null,
            "grid_gap": null,
            "grid_row": null,
            "grid_template_areas": null,
            "grid_template_columns": null,
            "grid_template_rows": null,
            "height": null,
            "justify_content": null,
            "justify_items": null,
            "left": null,
            "margin": null,
            "max_height": null,
            "max_width": null,
            "min_height": null,
            "min_width": null,
            "object_fit": null,
            "object_position": null,
            "order": null,
            "overflow": null,
            "overflow_x": null,
            "overflow_y": null,
            "padding": null,
            "right": null,
            "top": null,
            "visibility": null,
            "width": null
          }
        },
        "598ba90f4b3c47d89dcdaa58ab690951": {
          "model_module": "@jupyter-widgets/base",
          "model_name": "LayoutModel",
          "model_module_version": "1.2.0",
          "state": {
            "_model_module": "@jupyter-widgets/base",
            "_model_module_version": "1.2.0",
            "_model_name": "LayoutModel",
            "_view_count": null,
            "_view_module": "@jupyter-widgets/base",
            "_view_module_version": "1.2.0",
            "_view_name": "LayoutView",
            "align_content": null,
            "align_items": null,
            "align_self": null,
            "border": null,
            "bottom": null,
            "display": null,
            "flex": null,
            "flex_flow": null,
            "grid_area": null,
            "grid_auto_columns": null,
            "grid_auto_flow": null,
            "grid_auto_rows": null,
            "grid_column": null,
            "grid_gap": null,
            "grid_row": null,
            "grid_template_areas": null,
            "grid_template_columns": null,
            "grid_template_rows": null,
            "height": null,
            "justify_content": null,
            "justify_items": null,
            "left": null,
            "margin": null,
            "max_height": null,
            "max_width": null,
            "min_height": null,
            "min_width": null,
            "object_fit": null,
            "object_position": null,
            "order": null,
            "overflow": null,
            "overflow_x": null,
            "overflow_y": null,
            "padding": null,
            "right": null,
            "top": null,
            "visibility": null,
            "width": null
          }
        },
        "8d9b8af44a254ac1a027722067a9d3a0": {
          "model_module": "@jupyter-widgets/controls",
          "model_name": "DescriptionStyleModel",
          "model_module_version": "1.5.0",
          "state": {
            "_model_module": "@jupyter-widgets/controls",
            "_model_module_version": "1.5.0",
            "_model_name": "DescriptionStyleModel",
            "_view_count": null,
            "_view_module": "@jupyter-widgets/base",
            "_view_module_version": "1.2.0",
            "_view_name": "StyleView",
            "description_width": ""
          }
        },
        "0911eb45d13240b1a46bb38b5c581bdb": {
          "model_module": "@jupyter-widgets/base",
          "model_name": "LayoutModel",
          "model_module_version": "1.2.0",
          "state": {
            "_model_module": "@jupyter-widgets/base",
            "_model_module_version": "1.2.0",
            "_model_name": "LayoutModel",
            "_view_count": null,
            "_view_module": "@jupyter-widgets/base",
            "_view_module_version": "1.2.0",
            "_view_name": "LayoutView",
            "align_content": null,
            "align_items": null,
            "align_self": null,
            "border": null,
            "bottom": null,
            "display": null,
            "flex": null,
            "flex_flow": null,
            "grid_area": null,
            "grid_auto_columns": null,
            "grid_auto_flow": null,
            "grid_auto_rows": null,
            "grid_column": null,
            "grid_gap": null,
            "grid_row": null,
            "grid_template_areas": null,
            "grid_template_columns": null,
            "grid_template_rows": null,
            "height": null,
            "justify_content": null,
            "justify_items": null,
            "left": null,
            "margin": null,
            "max_height": null,
            "max_width": null,
            "min_height": null,
            "min_width": null,
            "object_fit": null,
            "object_position": null,
            "order": null,
            "overflow": null,
            "overflow_x": null,
            "overflow_y": null,
            "padding": null,
            "right": null,
            "top": null,
            "visibility": null,
            "width": null
          }
        },
        "1d5b33c0444141cb9732d60eb5cae964": {
          "model_module": "@jupyter-widgets/controls",
          "model_name": "ProgressStyleModel",
          "model_module_version": "1.5.0",
          "state": {
            "_model_module": "@jupyter-widgets/controls",
            "_model_module_version": "1.5.0",
            "_model_name": "ProgressStyleModel",
            "_view_count": null,
            "_view_module": "@jupyter-widgets/base",
            "_view_module_version": "1.2.0",
            "_view_name": "StyleView",
            "bar_color": null,
            "description_width": ""
          }
        },
        "53c3a296a2e640d383389dd25f077e9a": {
          "model_module": "@jupyter-widgets/base",
          "model_name": "LayoutModel",
          "model_module_version": "1.2.0",
          "state": {
            "_model_module": "@jupyter-widgets/base",
            "_model_module_version": "1.2.0",
            "_model_name": "LayoutModel",
            "_view_count": null,
            "_view_module": "@jupyter-widgets/base",
            "_view_module_version": "1.2.0",
            "_view_name": "LayoutView",
            "align_content": null,
            "align_items": null,
            "align_self": null,
            "border": null,
            "bottom": null,
            "display": null,
            "flex": null,
            "flex_flow": null,
            "grid_area": null,
            "grid_auto_columns": null,
            "grid_auto_flow": null,
            "grid_auto_rows": null,
            "grid_column": null,
            "grid_gap": null,
            "grid_row": null,
            "grid_template_areas": null,
            "grid_template_columns": null,
            "grid_template_rows": null,
            "height": null,
            "justify_content": null,
            "justify_items": null,
            "left": null,
            "margin": null,
            "max_height": null,
            "max_width": null,
            "min_height": null,
            "min_width": null,
            "object_fit": null,
            "object_position": null,
            "order": null,
            "overflow": null,
            "overflow_x": null,
            "overflow_y": null,
            "padding": null,
            "right": null,
            "top": null,
            "visibility": null,
            "width": null
          }
        },
        "4ce9f33db1e84d85a672d0e7afe6281e": {
          "model_module": "@jupyter-widgets/controls",
          "model_name": "DescriptionStyleModel",
          "model_module_version": "1.5.0",
          "state": {
            "_model_module": "@jupyter-widgets/controls",
            "_model_module_version": "1.5.0",
            "_model_name": "DescriptionStyleModel",
            "_view_count": null,
            "_view_module": "@jupyter-widgets/base",
            "_view_module_version": "1.2.0",
            "_view_name": "StyleView",
            "description_width": ""
          }
        }
      }
    }
  },
  "cells": [
    {
      "cell_type": "markdown",
      "metadata": {
        "id": "view-in-github",
        "colab_type": "text"
      },
      "source": [
        "<a href=\"https://colab.research.google.com/github/elichen/aoc2018/blob/main/Day_11_Chronal_Charge.ipynb\" target=\"_parent\"><img src=\"https://colab.research.google.com/assets/colab-badge.svg\" alt=\"Open In Colab\"/></a>"
      ]
    },
    {
      "cell_type": "code",
      "execution_count": null,
      "metadata": {
        "id": "4tEcBYHUwzE2"
      },
      "outputs": [],
      "source": [
        "import numpy as np\n",
        "\n",
        "def calculate_power_levels(serial_number):\n",
        "    # Create a 300x300 grid\n",
        "    grid_size = 300\n",
        "    grid = np.zeros((grid_size, grid_size))\n",
        "\n",
        "    # Calculate power levels\n",
        "    for x in range(1, grid_size + 1):\n",
        "        for y in range(1, grid_size + 1):\n",
        "            rack_id = x + 10\n",
        "            power_level = rack_id * y\n",
        "            power_level += serial_number\n",
        "            power_level *= rack_id\n",
        "            power_level = (power_level // 100 % 10) - 5\n",
        "            grid[y - 1][x - 1] = power_level\n",
        "\n",
        "    return grid\n",
        "\n",
        "def calculate_3x3_square_power_totals(grid):\n",
        "    grid_size = 300\n",
        "    square_power_totals = np.zeros((grid_size - 2, grid_size - 2))\n",
        "\n",
        "    # Calculate 3x3 square power totals\n",
        "    for x in range(grid_size - 2):\n",
        "        for y in range(grid_size - 2):\n",
        "            square_power_totals[y][x] = np.sum(grid[y:y+3, x:x+3])\n",
        "\n",
        "    return square_power_totals"
      ]
    },
    {
      "cell_type": "code",
      "source": [
        "x = 21\n",
        "y = 61\n",
        "serial_number = 42\n",
        "grid = calculate_power_levels(serial_number)\n",
        "square_power_totals = calculate_3x3_square_power_totals(grid)\n",
        "square_power_totals[y-1,x-1]"
      ],
      "metadata": {
        "colab": {
          "base_uri": "https://localhost:8080/"
        },
        "id": "y8VmqMG6x1Lj",
        "outputId": "396de64b-62ea-4efd-ec7e-875198dcce0b"
      },
      "execution_count": null,
      "outputs": [
        {
          "output_type": "execute_result",
          "data": {
            "text/plain": [
              "30.0"
            ]
          },
          "metadata": {},
          "execution_count": 22
        }
      ]
    },
    {
      "cell_type": "code",
      "source": [
        "serial_number = 4172\n",
        "grid = calculate_power_levels(serial_number)\n",
        "square_power_totals = calculate_3x3_square_power_totals(grid)\n",
        "max_index = np.argmax(square_power_totals)\n",
        "y, x = np.unravel_index(max_index, square_power_totals.shape)\n",
        "x += 1\n",
        "y += 1\n",
        "(x, y)"
      ],
      "metadata": {
        "colab": {
          "base_uri": "https://localhost:8080/"
        },
        "id": "twr147Vtw3FS",
        "outputId": "025208e7-871b-4206-9f3a-e1945c83bda3"
      },
      "execution_count": null,
      "outputs": [
        {
          "output_type": "execute_result",
          "data": {
            "text/plain": [
              "(243, 43)"
            ]
          },
          "metadata": {},
          "execution_count": 26
        }
      ]
    },
    {
      "cell_type": "code",
      "source": [
        "from tqdm.notebook import tqdm\n",
        "\n",
        "def calculate_square_power_totals(grid, square_size):\n",
        "    grid_size = grid.shape[0]\n",
        "    square_power_totals = np.zeros((grid_size - square_size + 1, grid_size - square_size + 1))\n",
        "\n",
        "    # Calculate square power totals for the specified size\n",
        "    for x in range(grid_size - square_size + 1):\n",
        "        for y in range(grid_size - square_size + 1):\n",
        "            square_power_totals[y][x] = np.sum(grid[y:y+square_size, x:x+square_size])\n",
        "\n",
        "    return square_power_totals\n",
        "\n",
        "serial_number = 4172\n",
        "grid = calculate_power_levels(serial_number)\n",
        "max_power = 0\n",
        "max_x,max_y = 0,0\n",
        "max_i = None\n",
        "for i in tqdm(range(1,301)):\n",
        "  power_totals = calculate_square_power_totals(grid, i)\n",
        "  max_index = np.argmax(power_totals)\n",
        "  y, x = np.unravel_index(max_index, power_totals.shape)\n",
        "  power = power_totals[y,x]\n",
        "  if power > max_power:\n",
        "    max_power = power\n",
        "    max_x,max_y = x+1,y+1\n",
        "    max_i = i\n",
        "max_x,max_y,max_i"
      ],
      "metadata": {
        "colab": {
          "base_uri": "https://localhost:8080/",
          "height": 67,
          "referenced_widgets": [
            "f7d0e309649a43ffa21b73b2fde9ffc4",
            "265a2b7f7cb64589a7b88e6b89c9ce77",
            "c2cf8a44c96a41028f04b2ec7d82c438",
            "c2ea6e0cebaa4b6198d99b16d468f9ac",
            "0afb275573b64446b32128d252e7b474",
            "598ba90f4b3c47d89dcdaa58ab690951",
            "8d9b8af44a254ac1a027722067a9d3a0",
            "0911eb45d13240b1a46bb38b5c581bdb",
            "1d5b33c0444141cb9732d60eb5cae964",
            "53c3a296a2e640d383389dd25f077e9a",
            "4ce9f33db1e84d85a672d0e7afe6281e"
          ]
        },
        "id": "DQFJIxIY6c8d",
        "outputId": "8d86cffc-139f-4714-8512-5576e134a5f6"
      },
      "execution_count": null,
      "outputs": [
        {
          "output_type": "display_data",
          "data": {
            "text/plain": [
              "  0%|          | 0/300 [00:00<?, ?it/s]"
            ],
            "application/vnd.jupyter.widget-view+json": {
              "version_major": 2,
              "version_minor": 0,
              "model_id": "f7d0e309649a43ffa21b73b2fde9ffc4"
            }
          },
          "metadata": {}
        },
        {
          "output_type": "execute_result",
          "data": {
            "text/plain": [
              "(236, 151, 15)"
            ]
          },
          "metadata": {},
          "execution_count": 38
        }
      ]
    }
  ]
}