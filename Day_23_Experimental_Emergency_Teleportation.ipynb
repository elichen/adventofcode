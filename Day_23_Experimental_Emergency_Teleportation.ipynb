{
  "nbformat": 4,
  "nbformat_minor": 0,
  "metadata": {
    "colab": {
      "provenance": [],
      "authorship_tag": "ABX9TyPg6dcpQOACwl+ndzNYsROi",
      "include_colab_link": true
    },
    "kernelspec": {
      "name": "python3",
      "display_name": "Python 3"
    },
    "language_info": {
      "name": "python"
    }
  },
  "cells": [
    {
      "cell_type": "markdown",
      "metadata": {
        "id": "view-in-github",
        "colab_type": "text"
      },
      "source": [
        "<a href=\"https://colab.research.google.com/github/elichen/aoc2018/blob/main/Day_23_Experimental_Emergency_Teleportation.ipynb\" target=\"_parent\"><img src=\"https://colab.research.google.com/assets/colab-badge.svg\" alt=\"Open In Colab\"/></a>"
      ]
    },
    {
      "cell_type": "code",
      "execution_count": 41,
      "metadata": {
        "id": "z5Q_0Ha1olmd"
      },
      "outputs": [],
      "source": [
        "data = \"\"\"pos=<0,0,0>, r=4\n",
        "pos=<1,0,0>, r=1\n",
        "pos=<4,0,0>, r=3\n",
        "pos=<0,2,0>, r=1\n",
        "pos=<0,5,0>, r=3\n",
        "pos=<0,0,3>, r=1\n",
        "pos=<1,1,1>, r=1\n",
        "pos=<1,1,2>, r=1\n",
        "pos=<1,3,1>, r=1\"\"\".split('\\n')"
      ]
    },
    {
      "cell_type": "code",
      "source": [
        "data = \"\"\"pos=<10,12,12>, r=2\n",
        "pos=<12,14,12>, r=2\n",
        "pos=<16,12,12>, r=4\n",
        "pos=<14,14,14>, r=6\n",
        "pos=<50,50,50>, r=200\n",
        "pos=<10,10,10>, r=5\"\"\".split('\\n')"
      ],
      "metadata": {
        "id": "mPd0r41zNsLw"
      },
      "execution_count": 42,
      "outputs": []
    },
    {
      "cell_type": "code",
      "source": [
        "# data = [x.rstrip() for x in open(\"input.txt\").readlines()]"
      ],
      "metadata": {
        "id": "wIKNnjCSrjsv"
      },
      "execution_count": 43,
      "outputs": []
    },
    {
      "cell_type": "code",
      "source": [
        "# Define the function to parse the string data into a list of positions and radius values\n",
        "\n",
        "def parse_positions_and_radii(data):\n",
        "    parsed_data = []\n",
        "    for item in data:\n",
        "        # Splitting each string at ', ' to separate the position and radius\n",
        "        pos_str, r_str = item.split(\", r=\")\n",
        "\n",
        "        # Extracting the coordinates from the position string\n",
        "        pos = tuple(map(int, pos_str.lstrip('pos=<').rstrip('>').split(',')))\n",
        "\n",
        "        # Converting the radius string to an integer\n",
        "        r = int(r_str)\n",
        "\n",
        "        # Adding the tuple of position and radius to the parsed data list\n",
        "        parsed_data.append((pos, r))\n",
        "\n",
        "    return parsed_data\n",
        "\n",
        "parsed_data = parse_positions_and_radii(data)"
      ],
      "metadata": {
        "id": "j_zQQc72qW0B"
      },
      "execution_count": 44,
      "outputs": []
    },
    {
      "cell_type": "code",
      "source": [
        "def manhattan_distance_3d(point1, point2):\n",
        "    return sum(abs(a - b) for a, b in zip(point1, point2))\n",
        "\n",
        "strongest = max(parsed_data, key=lambda x:x[1])\n",
        "total = 0\n",
        "for r in parsed_data:\n",
        "  if manhattan_distance_3d(r[0],strongest[0]) <= strongest[1]:\n",
        "    total += 1\n",
        "total"
      ],
      "metadata": {
        "colab": {
          "base_uri": "https://localhost:8080/"
        },
        "id": "_E_pPmO6q1vv",
        "outputId": "79a2a359-a829-48fc-88d2-dc8f78706738"
      },
      "execution_count": 45,
      "outputs": [
        {
          "output_type": "execute_result",
          "data": {
            "text/plain": [
              "6"
            ]
          },
          "metadata": {},
          "execution_count": 45
        }
      ]
    },
    {
      "cell_type": "code",
      "source": [
        "def parse_to_3d_region_ranges(data):\n",
        "    region_ranges = []\n",
        "    for pos, r in data:\n",
        "        x, y, z = pos\n",
        "        # Define the range for each dimension based on the position and radius\n",
        "        x_range = (x - r, x + r)\n",
        "        y_range = (y - r, y + r)\n",
        "        z_range = (z - r, z + r)\n",
        "        # Append the range for each dimension as a tuple\n",
        "        region_ranges.append((x_range, y_range, z_range))\n",
        "    return region_ranges\n",
        "\n",
        "# Test the function with the previously parsed data\n",
        "region_ranges = parse_to_3d_region_ranges(parsed_data)"
      ],
      "metadata": {
        "id": "POYqMv7kLkcw"
      },
      "execution_count": 46,
      "outputs": []
    },
    {
      "cell_type": "code",
      "source": [
        "def calculate_overlapping_region(region1, region2):\n",
        "    # Function to calculate the overlapping range between two ranges\n",
        "    def overlap_range(range1, range2):\n",
        "        # Find the maximum of the lower bounds and the minimum of the upper bounds\n",
        "        lower_bound = max(range1[0], range2[0])\n",
        "        upper_bound = min(range1[1], range2[1])\n",
        "        # If the ranges overlap, return the overlapping range, otherwise return None\n",
        "        if lower_bound <= upper_bound:\n",
        "            return lower_bound, upper_bound\n",
        "        else:\n",
        "            return None\n",
        "\n",
        "    # Calculate overlap for each dimension\n",
        "    x_overlap = overlap_range(region1[0], region2[0])\n",
        "    y_overlap = overlap_range(region1[1], region2[1])\n",
        "    z_overlap = overlap_range(region1[2], region2[2])\n",
        "\n",
        "    # If there is an overlap in all dimensions, return the overlapping region\n",
        "    if x_overlap and y_overlap and z_overlap:\n",
        "        return x_overlap, y_overlap, z_overlap\n",
        "    else:\n",
        "        # If any dimension does not overlap, there is no overlapping region\n",
        "        return None\n",
        "\n",
        "# Example usage\n",
        "region1 = ((-4, 4), (-4, 4), (-4, 4))  # Region from the first sphere\n",
        "region2 = ((0, 2), (-1, 1), (-1, 1))   # Region from the second sphere\n",
        "\n",
        "overlapping_region = calculate_overlapping_region(region1, region2)\n",
        "overlapping_region"
      ],
      "metadata": {
        "colab": {
          "base_uri": "https://localhost:8080/"
        },
        "id": "R1oxb5yhMfUd",
        "outputId": "85c9f0f9-6b2b-42bc-e99c-f3af1fb89f2f"
      },
      "execution_count": 47,
      "outputs": [
        {
          "output_type": "execute_result",
          "data": {
            "text/plain": [
              "((0, 2), (-1, 1), (-1, 1))"
            ]
          },
          "metadata": {},
          "execution_count": 47
        }
      ]
    },
    {
      "cell_type": "code",
      "source": [
        "def find_region_with_most_overlaps(regions):\n",
        "    # Initialize the list of overlapped regions with the original regions\n",
        "    # Each element is a tuple of the region and a set containing the index of the region it pertains to\n",
        "    overlapped_regions = [(region, {i}) for i, region in enumerate(regions)]\n",
        "\n",
        "    # Repeat the process n * n times, where n is the number of input regions\n",
        "    while True:\n",
        "        new_overlaps = []\n",
        "        for i, region1 in enumerate(regions):\n",
        "            for overlapped_region, ids in overlapped_regions:\n",
        "                if i in ids: continue\n",
        "                # Calculate overlapping region\n",
        "                overlap = calculate_overlapping_region(region1, overlapped_region)\n",
        "                if overlap:\n",
        "                    # Update overlapped regions list with new overlap\n",
        "                    new_ids = ids.union({i})\n",
        "                    new_overlaps.append((overlap, new_ids))\n",
        "        if len(new_overlaps) == 0: break\n",
        "        overlapped_regions = new_overlaps\n",
        "\n",
        "    return overlapped_regions\n",
        "\n",
        "r = find_region_with_most_overlaps(region_ranges)"
      ],
      "metadata": {
        "id": "rEqNC6gnNdBt"
      },
      "execution_count": 67,
      "outputs": []
    },
    {
      "cell_type": "code",
      "source": [
        "deduped_data = set()\n",
        "for item in r:\n",
        "    tuple_part, set_part = item\n",
        "    frozenset_part = frozenset(set_part)\n",
        "    deduped_data.add((tuple_part, frozenset_part))\n",
        "\n",
        "final_data = [(t, set(s)) for t, s in deduped_data]\n",
        "final_data"
      ],
      "metadata": {
        "colab": {
          "base_uri": "https://localhost:8080/"
        },
        "id": "6lbsos-ieTxp",
        "outputId": "add2fe28-2555-4b88-89b4-786f46abb558"
      },
      "execution_count": 69,
      "outputs": [
        {
          "output_type": "execute_result",
          "data": {
            "text/plain": [
              "[(((12, 12), (12, 14), (10, 14)), {0, 1, 2, 3, 4, 5})]"
            ]
          },
          "metadata": {},
          "execution_count": 69
        }
      ]
    }
  ]
}