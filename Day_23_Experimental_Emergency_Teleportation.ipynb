{
  "nbformat": 4,
  "nbformat_minor": 0,
  "metadata": {
    "colab": {
      "provenance": [],
      "authorship_tag": "ABX9TyM1B75kdjqVEfqd8Uxvv2uy",
      "include_colab_link": true
    },
    "kernelspec": {
      "name": "python3",
      "display_name": "Python 3"
    },
    "language_info": {
      "name": "python"
    }
  },
  "cells": [
    {
      "cell_type": "markdown",
      "metadata": {
        "id": "view-in-github",
        "colab_type": "text"
      },
      "source": [
        "<a href=\"https://colab.research.google.com/github/elichen/aoc2018/blob/main/Day_23_Experimental_Emergency_Teleportation.ipynb\" target=\"_parent\"><img src=\"https://colab.research.google.com/assets/colab-badge.svg\" alt=\"Open In Colab\"/></a>"
      ]
    },
    {
      "cell_type": "code",
      "execution_count": 73,
      "metadata": {
        "id": "z5Q_0Ha1olmd"
      },
      "outputs": [],
      "source": [
        "data = \"\"\"pos=<0,0,0>, r=4\n",
        "pos=<1,0,0>, r=1\n",
        "pos=<4,0,0>, r=3\n",
        "pos=<0,2,0>, r=1\n",
        "pos=<0,5,0>, r=3\n",
        "pos=<0,0,3>, r=1\n",
        "pos=<1,1,1>, r=1\n",
        "pos=<1,1,2>, r=1\n",
        "pos=<1,3,1>, r=1\"\"\".split('\\n')"
      ]
    },
    {
      "cell_type": "code",
      "source": [
        "data = \"\"\"pos=<10,12,12>, r=2\n",
        "pos=<12,14,12>, r=2\n",
        "pos=<16,12,12>, r=4\n",
        "pos=<14,14,14>, r=6\n",
        "pos=<50,50,50>, r=200\n",
        "pos=<10,10,10>, r=5\"\"\".split('\\n')"
      ],
      "metadata": {
        "id": "mPd0r41zNsLw"
      },
      "execution_count": 74,
      "outputs": []
    },
    {
      "cell_type": "code",
      "source": [
        "data = [x.rstrip() for x in open(\"input.txt\").readlines()]"
      ],
      "metadata": {
        "id": "wIKNnjCSrjsv"
      },
      "execution_count": 75,
      "outputs": []
    },
    {
      "cell_type": "code",
      "source": [
        "# Define the function to parse the string data into a list of positions and radius values\n",
        "\n",
        "def parse_positions_and_radii(data):\n",
        "    parsed_data = []\n",
        "    for item in data:\n",
        "        # Splitting each string at ', ' to separate the position and radius\n",
        "        pos_str, r_str = item.split(\", r=\")\n",
        "\n",
        "        # Extracting the coordinates from the position string\n",
        "        pos = tuple(map(int, pos_str.lstrip('pos=<').rstrip('>').split(',')))\n",
        "\n",
        "        # Converting the radius string to an integer\n",
        "        r = int(r_str)\n",
        "\n",
        "        # Adding the tuple of position and radius to the parsed data list\n",
        "        parsed_data.append((pos, r))\n",
        "\n",
        "    return parsed_data\n",
        "\n",
        "parsed_data = parse_positions_and_radii(data)"
      ],
      "metadata": {
        "id": "j_zQQc72qW0B"
      },
      "execution_count": 76,
      "outputs": []
    },
    {
      "cell_type": "code",
      "source": [
        "def manhattan_distance_3d(point1, point2):\n",
        "    return sum(abs(a - b) for a, b in zip(point1, point2))\n",
        "\n",
        "strongest = max(parsed_data, key=lambda x:x[1])\n",
        "total = 0\n",
        "for r in parsed_data:\n",
        "  if manhattan_distance_3d(r[0],strongest[0]) <= strongest[1]:\n",
        "    total += 1\n",
        "total"
      ],
      "metadata": {
        "colab": {
          "base_uri": "https://localhost:8080/"
        },
        "id": "_E_pPmO6q1vv",
        "outputId": "4b4c7cc6-1c05-42c0-bcbe-8555537c85f4"
      },
      "execution_count": 77,
      "outputs": [
        {
          "output_type": "execute_result",
          "data": {
            "text/plain": [
              "383"
            ]
          },
          "metadata": {},
          "execution_count": 77
        }
      ]
    },
    {
      "cell_type": "code",
      "source": [
        "def count_items_in_optimized_range(items, x_range, y_range, z_range):\n",
        "    \"\"\"\n",
        "    Optimized count of items in the list that are within a specified 3D range.\n",
        "    The 'items' list contains tuples with positions and radii.\n",
        "    The range is defined by x_range, y_range, and z_range.\n",
        "    The radius is considered using Manhattan distance.\n",
        "    \"\"\"\n",
        "    count = 0\n",
        "    for (x, y, z), radius in items:\n",
        "        # Calculate the Manhattan distance to the nearest point in the range\n",
        "        distance_x = max(0, max(x_range[0] - x, x - x_range[1]))\n",
        "        distance_y = max(0, max(y_range[0] - y, y - y_range[1]))\n",
        "        distance_z = max(0, max(z_range[0] - z, z - z_range[1]))\n",
        "\n",
        "        total_distance = distance_x + distance_y + distance_z\n",
        "\n",
        "        # Check if the total Manhattan distance is within the radius\n",
        "        if total_distance <= radius:\n",
        "            count += 1\n",
        "\n",
        "    return count\n",
        "\n",
        "# example_range = ((-1000000000, 1000000000), (-1000000000, 1000000000), (-1000000000, 1000000000))\n",
        "example_range = ((10,10),(10,10),(10,10))\n",
        "count_items_in_optimized_range(parsed_data, *example_range)"
      ],
      "metadata": {
        "colab": {
          "base_uri": "https://localhost:8080/"
        },
        "id": "7W-sBqgagJMF",
        "outputId": "672025e0-13cd-498b-e63f-9cb189b6fc74"
      },
      "execution_count": 78,
      "outputs": [
        {
          "output_type": "execute_result",
          "data": {
            "text/plain": [
              "56"
            ]
          },
          "metadata": {},
          "execution_count": 78
        }
      ]
    },
    {
      "cell_type": "code",
      "source": [
        "from queue import PriorityQueue\n",
        "\n",
        "def find_closest_point(items):\n",
        "    def subdivide_range(x_range, y_range, z_range):\n",
        "        \"\"\" Subdivide the 3D range into 8 quadrants. \"\"\"\n",
        "        x_mid = (x_range[0] + x_range[1]) // 2\n",
        "        y_mid = (y_range[0] + y_range[1]) // 2\n",
        "        z_mid = (z_range[0] + z_range[1]) // 2\n",
        "        return [\n",
        "            ((x_range[0], x_mid), (y_range[0], y_mid), (z_range[0], z_mid)),\n",
        "            ((x_range[0], x_mid), (y_range[0], y_mid), (z_mid + 1, z_range[1])),\n",
        "            ((x_range[0], x_mid), (y_mid + 1, y_range[1]), (z_range[0], z_mid)),\n",
        "            ((x_range[0], x_mid), (y_mid + 1, y_range[1]), (z_mid + 1, z_range[1])),\n",
        "            ((x_mid + 1, x_range[1]), (y_range[0], y_mid), (z_range[0], z_mid)),\n",
        "            ((x_mid + 1, x_range[1]), (y_range[0], y_mid), (z_mid + 1, z_range[1])),\n",
        "            ((x_mid + 1, x_range[1]), (y_mid + 1, y_range[1]), (z_range[0], z_mid)),\n",
        "            ((x_mid + 1, x_range[1]), (y_mid + 1, y_range[1]), (z_mid + 1, z_range[1])),\n",
        "        ]\n",
        "\n",
        "    # Initialize the ranges\n",
        "    x_min, x_max = min(x for (x, y, z), _ in items), max(x for (x, y, z), _ in items)\n",
        "    y_min, y_max = min(y for (x, y, z), _ in items), max(y for (x, y, z), _ in items)\n",
        "    z_min, z_max = min(z for (x, y, z), _ in items), max(z for (x, y, z), _ in items)\n",
        "\n",
        "    # Initialize the priority queue with the initial range\n",
        "    pq = PriorityQueue()\n",
        "    initial_range = ((x_min, x_max), (y_min, y_max), (z_min, z_max))\n",
        "    initial_count = count_items_in_optimized_range(items, *initial_range)\n",
        "    pq.put((-initial_count, initial_range))\n",
        "\n",
        "    while not pq.empty():\n",
        "        count, (x_range, y_range, z_range) = pq.get()\n",
        "\n",
        "        # Check if the range is a single point\n",
        "        if x_range[0] == x_range[1] and y_range[0] == y_range[1] and z_range[0] == z_range[1]:\n",
        "            return (x_range[0], y_range[0], z_range[0])\n",
        "\n",
        "        # Subdivide the range and add the sub-ranges to the queue\n",
        "        for sub_range in subdivide_range(x_range, y_range, z_range):\n",
        "            sub_count = count_items_in_optimized_range(items, *sub_range)\n",
        "            pq.put((-sub_count, sub_range))\n",
        "\n",
        "    # If no single point is found, return None (should not happen in this context)\n",
        "    return None\n",
        "\n",
        "# Test the function to find the closest point to the items\n",
        "closest_point = find_closest_point(parsed_data)\n",
        "closest_point"
      ],
      "metadata": {
        "colab": {
          "base_uri": "https://localhost:8080/"
        },
        "id": "inKnZSl1l9hZ",
        "outputId": "c841d134-f42c-4126-ebe0-79eef2e42186"
      },
      "execution_count": 79,
      "outputs": [
        {
          "output_type": "execute_result",
          "data": {
            "text/plain": [
              "(35689633, 20484373, 44300020)"
            ]
          },
          "metadata": {},
          "execution_count": 79
        }
      ]
    },
    {
      "cell_type": "code",
      "source": [
        "manhattan_distance_3d((0,0,0), closest_point)"
      ],
      "metadata": {
        "colab": {
          "base_uri": "https://localhost:8080/"
        },
        "id": "nbTRqFSPmKp_",
        "outputId": "adef91b1-34bf-4858-8896-9c95f46b37b2"
      },
      "execution_count": 80,
      "outputs": [
        {
          "output_type": "execute_result",
          "data": {
            "text/plain": [
              "100474026"
            ]
          },
          "metadata": {},
          "execution_count": 80
        }
      ]
    }
  ]
}