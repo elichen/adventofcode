{
  "nbformat": 4,
  "nbformat_minor": 0,
  "metadata": {
    "colab": {
      "provenance": [],
      "authorship_tag": "ABX9TyOkxTI6vlrfhUtzmVwq/Dz1",
      "include_colab_link": true
    },
    "kernelspec": {
      "name": "python3",
      "display_name": "Python 3"
    },
    "language_info": {
      "name": "python"
    },
    "widgets": {
      "application/vnd.jupyter.widget-state+json": {
        "b8fe7f23d8c642e78b68dafaf6e432ee": {
          "model_module": "@jupyter-widgets/controls",
          "model_name": "HBoxModel",
          "model_module_version": "1.5.0",
          "state": {
            "_dom_classes": [],
            "_model_module": "@jupyter-widgets/controls",
            "_model_module_version": "1.5.0",
            "_model_name": "HBoxModel",
            "_view_count": null,
            "_view_module": "@jupyter-widgets/controls",
            "_view_module_version": "1.5.0",
            "_view_name": "HBoxView",
            "box_style": "",
            "children": [
              "IPY_MODEL_113fc3106efd4ca782a0d26c92ab013e",
              "IPY_MODEL_7e96b924f5f344b0aa28beb387a86f9f",
              "IPY_MODEL_df0f348e7e5c4418883973d58d792fd7"
            ],
            "layout": "IPY_MODEL_9a029b221034422ab0a83f47878420cf"
          }
        },
        "113fc3106efd4ca782a0d26c92ab013e": {
          "model_module": "@jupyter-widgets/controls",
          "model_name": "HTMLModel",
          "model_module_version": "1.5.0",
          "state": {
            "_dom_classes": [],
            "_model_module": "@jupyter-widgets/controls",
            "_model_module_version": "1.5.0",
            "_model_name": "HTMLModel",
            "_view_count": null,
            "_view_module": "@jupyter-widgets/controls",
            "_view_module_version": "1.5.0",
            "_view_name": "HTMLView",
            "description": "",
            "description_tooltip": null,
            "layout": "IPY_MODEL_6f61e97600e64d23885e3206e134f258",
            "placeholder": "​",
            "style": "IPY_MODEL_d1d234ec22364cc4b4a23385babf497b",
            "value": "  0%"
          }
        },
        "7e96b924f5f344b0aa28beb387a86f9f": {
          "model_module": "@jupyter-widgets/controls",
          "model_name": "FloatProgressModel",
          "model_module_version": "1.5.0",
          "state": {
            "_dom_classes": [],
            "_model_module": "@jupyter-widgets/controls",
            "_model_module_version": "1.5.0",
            "_model_name": "FloatProgressModel",
            "_view_count": null,
            "_view_module": "@jupyter-widgets/controls",
            "_view_module_version": "1.5.0",
            "_view_name": "ProgressView",
            "bar_style": "danger",
            "description": "",
            "description_tooltip": null,
            "layout": "IPY_MODEL_d51fb70e7f68425c8a22dfa318995c45",
            "max": 9966,
            "min": 0,
            "orientation": "horizontal",
            "style": "IPY_MODEL_0afd8b6e231346fa9b0299cefaf3a795",
            "value": 0
          }
        },
        "df0f348e7e5c4418883973d58d792fd7": {
          "model_module": "@jupyter-widgets/controls",
          "model_name": "HTMLModel",
          "model_module_version": "1.5.0",
          "state": {
            "_dom_classes": [],
            "_model_module": "@jupyter-widgets/controls",
            "_model_module_version": "1.5.0",
            "_model_name": "HTMLModel",
            "_view_count": null,
            "_view_module": "@jupyter-widgets/controls",
            "_view_module_version": "1.5.0",
            "_view_name": "HTMLView",
            "description": "",
            "description_tooltip": null,
            "layout": "IPY_MODEL_e6b82d9851dc48fc9c83cfa40a0766d7",
            "placeholder": "​",
            "style": "IPY_MODEL_ffc2ff2b2bbb49efa886701be69f272d",
            "value": " 0/9966 [00:00&lt;?, ?it/s]"
          }
        },
        "9a029b221034422ab0a83f47878420cf": {
          "model_module": "@jupyter-widgets/base",
          "model_name": "LayoutModel",
          "model_module_version": "1.2.0",
          "state": {
            "_model_module": "@jupyter-widgets/base",
            "_model_module_version": "1.2.0",
            "_model_name": "LayoutModel",
            "_view_count": null,
            "_view_module": "@jupyter-widgets/base",
            "_view_module_version": "1.2.0",
            "_view_name": "LayoutView",
            "align_content": null,
            "align_items": null,
            "align_self": null,
            "border": null,
            "bottom": null,
            "display": null,
            "flex": null,
            "flex_flow": null,
            "grid_area": null,
            "grid_auto_columns": null,
            "grid_auto_flow": null,
            "grid_auto_rows": null,
            "grid_column": null,
            "grid_gap": null,
            "grid_row": null,
            "grid_template_areas": null,
            "grid_template_columns": null,
            "grid_template_rows": null,
            "height": null,
            "justify_content": null,
            "justify_items": null,
            "left": null,
            "margin": null,
            "max_height": null,
            "max_width": null,
            "min_height": null,
            "min_width": null,
            "object_fit": null,
            "object_position": null,
            "order": null,
            "overflow": null,
            "overflow_x": null,
            "overflow_y": null,
            "padding": null,
            "right": null,
            "top": null,
            "visibility": null,
            "width": null
          }
        },
        "6f61e97600e64d23885e3206e134f258": {
          "model_module": "@jupyter-widgets/base",
          "model_name": "LayoutModel",
          "model_module_version": "1.2.0",
          "state": {
            "_model_module": "@jupyter-widgets/base",
            "_model_module_version": "1.2.0",
            "_model_name": "LayoutModel",
            "_view_count": null,
            "_view_module": "@jupyter-widgets/base",
            "_view_module_version": "1.2.0",
            "_view_name": "LayoutView",
            "align_content": null,
            "align_items": null,
            "align_self": null,
            "border": null,
            "bottom": null,
            "display": null,
            "flex": null,
            "flex_flow": null,
            "grid_area": null,
            "grid_auto_columns": null,
            "grid_auto_flow": null,
            "grid_auto_rows": null,
            "grid_column": null,
            "grid_gap": null,
            "grid_row": null,
            "grid_template_areas": null,
            "grid_template_columns": null,
            "grid_template_rows": null,
            "height": null,
            "justify_content": null,
            "justify_items": null,
            "left": null,
            "margin": null,
            "max_height": null,
            "max_width": null,
            "min_height": null,
            "min_width": null,
            "object_fit": null,
            "object_position": null,
            "order": null,
            "overflow": null,
            "overflow_x": null,
            "overflow_y": null,
            "padding": null,
            "right": null,
            "top": null,
            "visibility": null,
            "width": null
          }
        },
        "d1d234ec22364cc4b4a23385babf497b": {
          "model_module": "@jupyter-widgets/controls",
          "model_name": "DescriptionStyleModel",
          "model_module_version": "1.5.0",
          "state": {
            "_model_module": "@jupyter-widgets/controls",
            "_model_module_version": "1.5.0",
            "_model_name": "DescriptionStyleModel",
            "_view_count": null,
            "_view_module": "@jupyter-widgets/base",
            "_view_module_version": "1.2.0",
            "_view_name": "StyleView",
            "description_width": ""
          }
        },
        "d51fb70e7f68425c8a22dfa318995c45": {
          "model_module": "@jupyter-widgets/base",
          "model_name": "LayoutModel",
          "model_module_version": "1.2.0",
          "state": {
            "_model_module": "@jupyter-widgets/base",
            "_model_module_version": "1.2.0",
            "_model_name": "LayoutModel",
            "_view_count": null,
            "_view_module": "@jupyter-widgets/base",
            "_view_module_version": "1.2.0",
            "_view_name": "LayoutView",
            "align_content": null,
            "align_items": null,
            "align_self": null,
            "border": null,
            "bottom": null,
            "display": null,
            "flex": null,
            "flex_flow": null,
            "grid_area": null,
            "grid_auto_columns": null,
            "grid_auto_flow": null,
            "grid_auto_rows": null,
            "grid_column": null,
            "grid_gap": null,
            "grid_row": null,
            "grid_template_areas": null,
            "grid_template_columns": null,
            "grid_template_rows": null,
            "height": null,
            "justify_content": null,
            "justify_items": null,
            "left": null,
            "margin": null,
            "max_height": null,
            "max_width": null,
            "min_height": null,
            "min_width": null,
            "object_fit": null,
            "object_position": null,
            "order": null,
            "overflow": null,
            "overflow_x": null,
            "overflow_y": null,
            "padding": null,
            "right": null,
            "top": null,
            "visibility": null,
            "width": null
          }
        },
        "0afd8b6e231346fa9b0299cefaf3a795": {
          "model_module": "@jupyter-widgets/controls",
          "model_name": "ProgressStyleModel",
          "model_module_version": "1.5.0",
          "state": {
            "_model_module": "@jupyter-widgets/controls",
            "_model_module_version": "1.5.0",
            "_model_name": "ProgressStyleModel",
            "_view_count": null,
            "_view_module": "@jupyter-widgets/base",
            "_view_module_version": "1.2.0",
            "_view_name": "StyleView",
            "bar_color": null,
            "description_width": ""
          }
        },
        "e6b82d9851dc48fc9c83cfa40a0766d7": {
          "model_module": "@jupyter-widgets/base",
          "model_name": "LayoutModel",
          "model_module_version": "1.2.0",
          "state": {
            "_model_module": "@jupyter-widgets/base",
            "_model_module_version": "1.2.0",
            "_model_name": "LayoutModel",
            "_view_count": null,
            "_view_module": "@jupyter-widgets/base",
            "_view_module_version": "1.2.0",
            "_view_name": "LayoutView",
            "align_content": null,
            "align_items": null,
            "align_self": null,
            "border": null,
            "bottom": null,
            "display": null,
            "flex": null,
            "flex_flow": null,
            "grid_area": null,
            "grid_auto_columns": null,
            "grid_auto_flow": null,
            "grid_auto_rows": null,
            "grid_column": null,
            "grid_gap": null,
            "grid_row": null,
            "grid_template_areas": null,
            "grid_template_columns": null,
            "grid_template_rows": null,
            "height": null,
            "justify_content": null,
            "justify_items": null,
            "left": null,
            "margin": null,
            "max_height": null,
            "max_width": null,
            "min_height": null,
            "min_width": null,
            "object_fit": null,
            "object_position": null,
            "order": null,
            "overflow": null,
            "overflow_x": null,
            "overflow_y": null,
            "padding": null,
            "right": null,
            "top": null,
            "visibility": null,
            "width": null
          }
        },
        "ffc2ff2b2bbb49efa886701be69f272d": {
          "model_module": "@jupyter-widgets/controls",
          "model_name": "DescriptionStyleModel",
          "model_module_version": "1.5.0",
          "state": {
            "_model_module": "@jupyter-widgets/controls",
            "_model_module_version": "1.5.0",
            "_model_name": "DescriptionStyleModel",
            "_view_count": null,
            "_view_module": "@jupyter-widgets/base",
            "_view_module_version": "1.2.0",
            "_view_name": "StyleView",
            "description_width": ""
          }
        }
      }
    }
  },
  "cells": [
    {
      "cell_type": "markdown",
      "metadata": {
        "id": "view-in-github",
        "colab_type": "text"
      },
      "source": [
        "<a href=\"https://colab.research.google.com/github/elichen/aoc2018/blob/main/Day_24_Immune_System_Simulator_20XX.ipynb\" target=\"_parent\"><img src=\"https://colab.research.google.com/assets/colab-badge.svg\" alt=\"Open In Colab\"/></a>"
      ]
    },
    {
      "cell_type": "code",
      "source": [
        "data = \"\"\"Immune System:\n",
        "17 units each with 5390 hit points (weak to radiation, bludgeoning) with an attack that does 4507 fire damage at initiative 2\n",
        "989 units each with 1274 hit points (immune to fire; weak to bludgeoning, slashing) with an attack that does 25 slashing damage at initiative 3\n",
        "\n",
        "Infection:\n",
        "801 units each with 4706 hit points (weak to radiation) with an attack that does 116 bludgeoning damage at initiative 1\n",
        "4485 units each with 2961 hit points (immune to radiation; weak to fire, cold) with an attack that does 12 slashing damage at initiative 4\"\"\".split('\\n')"
      ],
      "metadata": {
        "id": "YgzJb0pVyhFJ"
      },
      "execution_count": 116,
      "outputs": []
    },
    {
      "cell_type": "code",
      "source": [
        "data = \"\"\"Immune System:\n",
        "2317 units each with 2435 hit points (weak to bludgeoning, cold; immune to fire) with an attack that does 10 cold damage at initiative 2\n",
        "967 units each with 5447 hit points (immune to cold; weak to slashing, radiation) with an attack that does 50 fire damage at initiative 3\n",
        "851 units each with 11516 hit points with an attack that does 106 cold damage at initiative 7\n",
        "4857 units each with 2273 hit points with an attack that does 4 radiation damage at initiative 17\n",
        "1929 units each with 2540 hit points (immune to fire) with an attack that does 12 radiation damage at initiative 4\n",
        "4673 units each with 3705 hit points with an attack that does 5 fire damage at initiative 16\n",
        "2312 units each with 6698 hit points (immune to radiation) with an attack that does 26 slashing damage at initiative 15\n",
        "3526 units each with 3316 hit points (weak to cold) with an attack that does 9 fire damage at initiative 20\n",
        "3207 units each with 2502 hit points (weak to cold, fire; immune to slashing) with an attack that does 6 radiation damage at initiative 11\n",
        "5213 units each with 9656 hit points (immune to radiation) with an attack that does 17 fire damage at initiative 6\n",
        "\n",
        "Infection:\n",
        "8026 units each with 11443 hit points (immune to bludgeoning, slashing, fire) with an attack that does 2 cold damage at initiative 14\n",
        "4465 units each with 36617 hit points (weak to radiation) with an attack that does 16 cold damage at initiative 1\n",
        "378 units each with 18782 hit points (weak to radiation; immune to fire) with an attack that does 98 slashing damage at initiative 10\n",
        "1092 units each with 17737 hit points (immune to bludgeoning, fire; weak to slashing) with an attack that does 25 slashing damage at initiative 18\n",
        "270 units each with 19361 hit points (weak to bludgeoning, slashing) with an attack that does 104 fire damage at initiative 9\n",
        "2875 units each with 30650 hit points (weak to fire) with an attack that does 16 slashing damage at initiative 5\n",
        "1024 units each with 43191 hit points (weak to bludgeoning, cold) with an attack that does 76 cold damage at initiative 12\n",
        "892 units each with 10010 hit points (immune to radiation; weak to slashing) with an attack that does 15 radiation damage at initiative 19\n",
        "2708 units each with 40667 hit points (immune to cold; weak to fire) with an attack that does 21 cold damage at initiative 13\n",
        "780 units each with 44223 hit points (immune to bludgeoning, radiation, slashing) with an attack that does 104 cold damage at initiative 8\"\"\".split('\\n')"
      ],
      "metadata": {
        "id": "IplOOON-yJbv"
      },
      "execution_count": 117,
      "outputs": []
    },
    {
      "cell_type": "code",
      "source": [
        "import re\n",
        "\n",
        "def parse_input(input_data):\n",
        "    lines = input_data\n",
        "\n",
        "    # Initialize data structures for both armies\n",
        "    immune_system = []\n",
        "    infection = []\n",
        "    current_army = None\n",
        "\n",
        "    # Regular expression to parse the group details\n",
        "    group_regex = re.compile(\n",
        "        r'(\\d+) units each with (\\d+) hit points (\\([^)]*\\) )?with an attack that does (\\d+) (\\w+) damage at initiative (\\d+)'\n",
        "    )\n",
        "\n",
        "    for line in lines:\n",
        "        if line.startswith('Immune System'):\n",
        "            current_army = immune_system\n",
        "        elif line.startswith('Infection'):\n",
        "            current_army = infection\n",
        "        elif line:\n",
        "            match = group_regex.match(line)\n",
        "            if match:\n",
        "                units, hit_points, properties, attack_damage, attack_type, initiative = match.groups()\n",
        "                group = {\n",
        "                    'units': int(units),\n",
        "                    'hit_points': int(hit_points),\n",
        "                    'attack_damage': int(attack_damage),\n",
        "                    'attack_type': attack_type,\n",
        "                    'initiative': int(initiative),\n",
        "                    'weaknesses': [],\n",
        "                    'immunities': []\n",
        "                }\n",
        "\n",
        "                if properties:\n",
        "                    # Process weaknesses and immunities\n",
        "                    properties = properties.strip('() ')\n",
        "                    for prop in properties.split('; '):\n",
        "                        if prop.startswith('weak to'):\n",
        "                            group['weaknesses'] = prop[len('weak to '):].split(', ')\n",
        "                        elif prop.startswith('immune to'):\n",
        "                            group['immunities'] = prop[len('immune to '):].split(', ')\n",
        "\n",
        "                current_army.append(group)\n",
        "\n",
        "    return immune_system, infection"
      ],
      "metadata": {
        "id": "HdKxMDNlyMZ1"
      },
      "execution_count": 118,
      "outputs": []
    },
    {
      "cell_type": "code",
      "execution_count": 119,
      "metadata": {
        "colab": {
          "base_uri": "https://localhost:8080/"
        },
        "id": "Qr8o8_cBoCtN",
        "outputId": "532b7404-9a2e-41ee-a744-e0986a99b243"
      },
      "outputs": [
        {
          "output_type": "execute_result",
          "data": {
            "text/plain": [
              "([],\n",
              " [{'units': 8004,\n",
              "   'hit_points': 11443,\n",
              "   'attack_damage': 2,\n",
              "   'attack_type': 'cold',\n",
              "   'initiative': 14,\n",
              "   'weaknesses': [],\n",
              "   'immunities': ['bludgeoning', 'slashing', 'fire']},\n",
              "  {'units': 4426,\n",
              "   'hit_points': 36617,\n",
              "   'attack_damage': 16,\n",
              "   'attack_type': 'cold',\n",
              "   'initiative': 1,\n",
              "   'weaknesses': ['radiation'],\n",
              "   'immunities': []},\n",
              "  {'units': 197,\n",
              "   'hit_points': 18782,\n",
              "   'attack_damage': 98,\n",
              "   'attack_type': 'slashing',\n",
              "   'initiative': 10,\n",
              "   'weaknesses': ['radiation'],\n",
              "   'immunities': ['fire']},\n",
              "  {'units': 411,\n",
              "   'hit_points': 17737,\n",
              "   'attack_damage': 25,\n",
              "   'attack_type': 'slashing',\n",
              "   'initiative': 18,\n",
              "   'weaknesses': ['slashing'],\n",
              "   'immunities': ['bludgeoning', 'fire']},\n",
              "  {'units': 99,\n",
              "   'hit_points': 19361,\n",
              "   'attack_damage': 104,\n",
              "   'attack_type': 'fire',\n",
              "   'initiative': 9,\n",
              "   'weaknesses': ['bludgeoning', 'slashing'],\n",
              "   'immunities': []},\n",
              "  {'units': 2328,\n",
              "   'hit_points': 30650,\n",
              "   'attack_damage': 16,\n",
              "   'attack_type': 'slashing',\n",
              "   'initiative': 5,\n",
              "   'weaknesses': ['fire'],\n",
              "   'immunities': []},\n",
              "  {'units': 676,\n",
              "   'hit_points': 43191,\n",
              "   'attack_damage': 76,\n",
              "   'attack_type': 'cold',\n",
              "   'initiative': 12,\n",
              "   'weaknesses': ['bludgeoning', 'cold'],\n",
              "   'immunities': []},\n",
              "  {'units': 686,\n",
              "   'hit_points': 10010,\n",
              "   'attack_damage': 15,\n",
              "   'attack_type': 'radiation',\n",
              "   'initiative': 19,\n",
              "   'weaknesses': ['slashing'],\n",
              "   'immunities': ['radiation']},\n",
              "  {'units': 1774,\n",
              "   'hit_points': 40667,\n",
              "   'attack_damage': 21,\n",
              "   'attack_type': 'cold',\n",
              "   'initiative': 13,\n",
              "   'weaknesses': ['fire'],\n",
              "   'immunities': ['cold']},\n",
              "  {'units': 780,\n",
              "   'hit_points': 44223,\n",
              "   'attack_damage': 104,\n",
              "   'attack_type': 'cold',\n",
              "   'initiative': 8,\n",
              "   'weaknesses': [],\n",
              "   'immunities': ['bludgeoning', 'radiation', 'slashing']}])"
            ]
          },
          "metadata": {},
          "execution_count": 119
        }
      ],
      "source": [
        "def simulate_battle(immune_system, infection):\n",
        "    def calculate_effective_power(group):\n",
        "        return group['units'] * group['attack_damage']\n",
        "\n",
        "    def calculate_damage(attacking, defending):\n",
        "        if attacking['attack_type'] in defending['immunities']:\n",
        "            return 0\n",
        "        damage = calculate_effective_power(attacking)\n",
        "        if attacking['attack_type'] in defending['weaknesses']:\n",
        "            damage *= 2\n",
        "        return damage\n",
        "\n",
        "    while immune_system and infection:\n",
        "        # print(\"--\")\n",
        "        # print(\"immune_system:\", immune_system)\n",
        "        # print(\"infection\",infection)\n",
        "\n",
        "        # Target selection\n",
        "        all_groups = sorted([(g, 'immune') for g in immune_system] + [(g, 'infection') for g in infection],\n",
        "                            key=lambda x: (calculate_effective_power(x[0]), x[0]['initiative']), reverse=True)\n",
        "        targets = {}\n",
        "        for group, group_type in all_groups:\n",
        "            potential_targets = infection if group_type == 'immune' else immune_system\n",
        "            potential_targets = sorted(potential_targets,\n",
        "                                       key=lambda g: (calculate_damage(group, g), calculate_effective_power(g), g['initiative']),\n",
        "                                       reverse=True)\n",
        "            for target in potential_targets:\n",
        "                if target not in targets.values() and calculate_damage(group, target) > 0:\n",
        "                    targets[id(group)] = target\n",
        "                    break\n",
        "\n",
        "        # Attacking phase\n",
        "        for group, group_type in sorted(all_groups, key=lambda x: x[0]['initiative'], reverse=True):\n",
        "            if group['units'] <= 0:\n",
        "                continue\n",
        "            target = targets.get(id(group))\n",
        "            if target:\n",
        "                damage = calculate_damage(group, target)\n",
        "                units_killed = min(target['units'], damage // target['hit_points'])\n",
        "                target['units'] -= units_killed\n",
        "\n",
        "        # Remove defeated groups\n",
        "        immune_system = [g for g in immune_system if g['units'] > 0]\n",
        "        infection = [g for g in infection if g['units'] > 0]\n",
        "\n",
        "    return immune_system, infection\n",
        "\n",
        "# Run the simulation\n",
        "immune_system, infection = parse_input(data)\n",
        "immune_system, infection = simulate_battle(immune_system, infection)\n",
        "immune_system, infection"
      ]
    },
    {
      "cell_type": "code",
      "source": [
        "sum([x['units'] for x in infection])"
      ],
      "metadata": {
        "colab": {
          "base_uri": "https://localhost:8080/"
        },
        "id": "W71Ixfa35S3p",
        "outputId": "e585ea5b-0419-49e1-c0dc-70d041e0fc8e"
      },
      "execution_count": 120,
      "outputs": [
        {
          "output_type": "execute_result",
          "data": {
            "text/plain": [
              "19381"
            ]
          },
          "metadata": {},
          "execution_count": 120
        }
      ]
    },
    {
      "cell_type": "code",
      "source": [
        "from tqdm.notebook import tqdm\n",
        "\n",
        "for boost in tqdm(range(34,10000)):\n",
        "  immune_system, infection = parse_input(data)\n",
        "  for x in immune_system:\n",
        "    x['attack_damage'] += boost\n",
        "  immune_system, infection = simulate_battle(immune_system, infection)\n",
        "  if len(infection) == 0: break\n",
        "immune_system"
      ],
      "metadata": {
        "colab": {
          "base_uri": "https://localhost:8080/",
          "height": 799,
          "referenced_widgets": [
            "b8fe7f23d8c642e78b68dafaf6e432ee",
            "113fc3106efd4ca782a0d26c92ab013e",
            "7e96b924f5f344b0aa28beb387a86f9f",
            "df0f348e7e5c4418883973d58d792fd7",
            "9a029b221034422ab0a83f47878420cf",
            "6f61e97600e64d23885e3206e134f258",
            "d1d234ec22364cc4b4a23385babf497b",
            "d51fb70e7f68425c8a22dfa318995c45",
            "0afd8b6e231346fa9b0299cefaf3a795",
            "e6b82d9851dc48fc9c83cfa40a0766d7",
            "ffc2ff2b2bbb49efa886701be69f272d"
          ]
        },
        "id": "ATHvszpR7m-w",
        "outputId": "0bb79c8b-feb6-426e-94b5-142a6c48cfb5"
      },
      "execution_count": 125,
      "outputs": [
        {
          "output_type": "display_data",
          "data": {
            "text/plain": [
              "  0%|          | 0/9966 [00:00<?, ?it/s]"
            ],
            "application/vnd.jupyter.widget-view+json": {
              "version_major": 2,
              "version_minor": 0,
              "model_id": "b8fe7f23d8c642e78b68dafaf6e432ee"
            }
          },
          "metadata": {}
        },
        {
          "output_type": "execute_result",
          "data": {
            "text/plain": [
              "[{'units': 129,\n",
              "  'hit_points': 11516,\n",
              "  'attack_damage': 140,\n",
              "  'attack_type': 'cold',\n",
              "  'initiative': 7,\n",
              "  'weaknesses': [],\n",
              "  'immunities': []},\n",
              " {'units': 363,\n",
              "  'hit_points': 2273,\n",
              "  'attack_damage': 38,\n",
              "  'attack_type': 'radiation',\n",
              "  'initiative': 17,\n",
              "  'weaknesses': [],\n",
              "  'immunities': []},\n",
              " {'units': 300,\n",
              "  'hit_points': 2540,\n",
              "  'attack_damage': 46,\n",
              "  'attack_type': 'radiation',\n",
              "  'initiative': 4,\n",
              "  'weaknesses': [],\n",
              "  'immunities': ['fire']},\n",
              " {'units': 355,\n",
              "  'hit_points': 3705,\n",
              "  'attack_damage': 39,\n",
              "  'attack_type': 'fire',\n",
              "  'initiative': 16,\n",
              "  'weaknesses': [],\n",
              "  'immunities': []},\n",
              " {'units': 231,\n",
              "  'hit_points': 6698,\n",
              "  'attack_damage': 60,\n",
              "  'attack_type': 'slashing',\n",
              "  'initiative': 15,\n",
              "  'weaknesses': [],\n",
              "  'immunities': ['radiation']},\n",
              " {'units': 1667,\n",
              "  'hit_points': 9656,\n",
              "  'attack_damage': 51,\n",
              "  'attack_type': 'fire',\n",
              "  'initiative': 6,\n",
              "  'weaknesses': [],\n",
              "  'immunities': ['radiation']}]"
            ]
          },
          "metadata": {},
          "execution_count": 125
        }
      ]
    },
    {
      "cell_type": "code",
      "source": [
        "sum([x['units'] for x in immune_system])"
      ],
      "metadata": {
        "colab": {
          "base_uri": "https://localhost:8080/"
        },
        "id": "X5TIr_kt9LG3",
        "outputId": "e36768cc-2ad6-445f-8e04-8ec18ca0a3dd"
      },
      "execution_count": 126,
      "outputs": [
        {
          "output_type": "execute_result",
          "data": {
            "text/plain": [
              "3045"
            ]
          },
          "metadata": {},
          "execution_count": 126
        }
      ]
    }
  ]
}