{
  "nbformat": 4,
  "nbformat_minor": 0,
  "metadata": {
    "colab": {
      "provenance": [],
      "authorship_tag": "ABX9TyNZh8EDgTr4wKy9RePwxHRc",
      "include_colab_link": true
    },
    "kernelspec": {
      "name": "python3",
      "display_name": "Python 3"
    },
    "language_info": {
      "name": "python"
    }
  },
  "cells": [
    {
      "cell_type": "markdown",
      "metadata": {
        "id": "view-in-github",
        "colab_type": "text"
      },
      "source": [
        "<a href=\"https://colab.research.google.com/github/elichen/aoc2018/blob/main/Day_20_A_Regular_Map.ipynb\" target=\"_parent\"><img src=\"https://colab.research.google.com/assets/colab-badge.svg\" alt=\"Open In Colab\"/></a>"
      ]
    },
    {
      "cell_type": "code",
      "execution_count": 11,
      "metadata": {
        "id": "j1Jdb46TtflV"
      },
      "outputs": [],
      "source": [
        "def parse_nested_path(input_str):\n",
        "    def parse_recursive(s, index):\n",
        "        options = []\n",
        "        current_option = []\n",
        "\n",
        "        while index < len(s):\n",
        "            char = s[index]\n",
        "\n",
        "            if char in 'NSEW':\n",
        "                current_option.append(char)\n",
        "            elif char == '(':\n",
        "                nested_options, index = parse_recursive(s, index + 1)\n",
        "                current_option.append(nested_options)\n",
        "            elif char == '|':\n",
        "                options.append(current_option)\n",
        "                current_option = []\n",
        "            elif char == ')':\n",
        "                options.append(current_option)\n",
        "                return options, index\n",
        "            index += 1\n",
        "\n",
        "        options.append(current_option)\n",
        "        return options, index\n",
        "\n",
        "    nested_paths, _ = parse_recursive(input_str, 0)\n",
        "    return nested_paths"
      ]
    },
    {
      "cell_type": "code",
      "source": [
        "import numpy as np\n",
        "\n",
        "def dfs_traverse(array, x, y, distance, path):\n",
        "    moves = {'N': (-1, 0), 'S': (1, 0), 'E': (0, 1), 'W': (0, -1)}\n",
        "\n",
        "    for element in path:\n",
        "        if isinstance(element, list):\n",
        "            for option in element:\n",
        "                dfs_traverse(array, x, y, distance, option)\n",
        "        else:\n",
        "            dx, dy = moves[element]\n",
        "            x, y = x + dx, y + dy\n",
        "            distance += 1\n",
        "            if distance < array[x, y]:\n",
        "                array[x, y] = distance\n",
        "\n",
        "def longest_distances(path):\n",
        "    array = np.full((100, 100), np.inf)\n",
        "    start_x, start_y = 50, 50\n",
        "    array[start_x, start_y] = 0\n",
        "\n",
        "    dfs_traverse(array, start_x, start_y, 0, path)\n",
        "    return array\n",
        "\n",
        "# Parse the path and run the function\n",
        "# path_str = \"^WSSEESWWWNW(S|NENNEEEENN(ESSSSW(NWSW|SSEN)|WSWWN(E|WWS(E|SS))))$\"\n",
        "path_str = open(\"input.txt\").read()\n",
        "nested_path = parse_nested_path(path_str)\n",
        "distance_array = longest_distances(nested_path[0])\n",
        "\n",
        "# Display a part of the array around the starting point for visibility\n",
        "# print(distance_array[45:55, 45:55])\n",
        "np.max(distance_array[distance_array != np.inf])"
      ],
      "metadata": {
        "colab": {
          "base_uri": "https://localhost:8080/"
        },
        "id": "elMMLUy2o5Sz",
        "outputId": "9e8d6846-5d10-4d09-8dae-52c08db23fdf"
      },
      "execution_count": 27,
      "outputs": [
        {
          "output_type": "execute_result",
          "data": {
            "text/plain": [
              "4778.0"
            ]
          },
          "metadata": {},
          "execution_count": 27
        }
      ]
    },
    {
      "cell_type": "code",
      "source": [
        "np.count_nonzero((distance_array != np.inf) & (distance_array >= 1000))"
      ],
      "metadata": {
        "colab": {
          "base_uri": "https://localhost:8080/"
        },
        "id": "3EEFlk9WuT8J",
        "outputId": "08807785-e274-487b-956f-f6754898b140"
      },
      "execution_count": 30,
      "outputs": [
        {
          "output_type": "execute_result",
          "data": {
            "text/plain": [
              "8459"
            ]
          },
          "metadata": {},
          "execution_count": 30
        }
      ]
    }
  ]
}