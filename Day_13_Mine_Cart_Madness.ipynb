{
  "nbformat": 4,
  "nbformat_minor": 0,
  "metadata": {
    "colab": {
      "provenance": [],
      "authorship_tag": "ABX9TyM8j79+9r7sBCP7XX/vTg/s",
      "include_colab_link": true
    },
    "kernelspec": {
      "name": "python3",
      "display_name": "Python 3"
    },
    "language_info": {
      "name": "python"
    }
  },
  "cells": [
    {
      "cell_type": "markdown",
      "metadata": {
        "id": "view-in-github",
        "colab_type": "text"
      },
      "source": [
        "<a href=\"https://colab.research.google.com/github/elichen/aoc2018/blob/main/Day_13_Mine_Cart_Madness.ipynb\" target=\"_parent\"><img src=\"https://colab.research.google.com/assets/colab-badge.svg\" alt=\"Open In Colab\"/></a>"
      ]
    },
    {
      "cell_type": "code",
      "execution_count": null,
      "metadata": {
        "id": "aigA1AjUuY5M"
      },
      "outputs": [],
      "source": [
        "data = r\"\"\"/->-\\\n",
        "|   |  /----\\\n",
        "| /-+--+-\\  |\n",
        "| | |  | v  |\n",
        "\\-+-/  \\-+--/\n",
        "  \\------/   \"\"\".split('\\n')"
      ]
    },
    {
      "cell_type": "code",
      "source": [
        "data = open(\"input.txt\").read().split('\\n')"
      ],
      "metadata": {
        "id": "EbaoHwNahJ8m"
      },
      "execution_count": null,
      "outputs": []
    },
    {
      "cell_type": "code",
      "source": [
        "def process_tracks(track_map):\n",
        "    # Initialize variables to store the cleaned map and cart positions\n",
        "    cleaned_map = []\n",
        "    carts = []\n",
        "\n",
        "    # Iterate over each row in the track map\n",
        "    for y, row in enumerate(track_map):\n",
        "        # Create a list to store the cleaned row\n",
        "        cleaned_row = list(row)\n",
        "\n",
        "        # Iterate over each cell in the row\n",
        "        for x, cell in enumerate(row):\n",
        "            # Check for carts and their directions\n",
        "            if cell in '^v':\n",
        "                # Replace cart with a vertical track\n",
        "                cleaned_row[x] = '|'\n",
        "                # Store the cart position and direction\n",
        "                carts.append((x, y, cell, 'L'))\n",
        "            elif cell in '<>':\n",
        "                # Replace cart with a horizontal track\n",
        "                cleaned_row[x] = '-'\n",
        "                # Store the cart position and direction\n",
        "                carts.append((x, y, cell, 'L'))\n",
        "\n",
        "        # Add the cleaned row to the cleaned map\n",
        "        cleaned_map.append(''.join(cleaned_row))\n",
        "\n",
        "    return cleaned_map, carts\n",
        "\n",
        "cleaned_map, orig_carts = process_tracks(data)"
      ],
      "metadata": {
        "id": "F76iUVtZcw80"
      },
      "execution_count": null,
      "outputs": []
    },
    {
      "cell_type": "code",
      "source": [
        "def move_carts_and_detect_crash(track_map, carts):\n",
        "    direction_deltas = {'^': (0, -1), 'v': (0, 1), '<': (-1, 0), '>': (1, 0)}\n",
        "    turn_left = {'^': '<', 'v': '>', '<': 'v', '>': '^'}\n",
        "    go_straight = {'^': '^', 'v': 'v', '<': '<', '>': '>'}\n",
        "    turn_right = {'^': '>', 'v': '<', '<': '^', '>': 'v'}\n",
        "\n",
        "    carts.sort(key=lambda cart: (cart[1], cart[0]))\n",
        "    updated_carts = []\n",
        "    future_positions = {cart[:2] for cart in carts}  # Positions of all carts before moving\n",
        "\n",
        "    for x, y, direction, next_turn in carts:\n",
        "        dx, dy = direction_deltas[direction]\n",
        "        new_x, new_y = x + dx, y + dy\n",
        "\n",
        "        # Check for crashes against the positions of all carts (including those not yet moved)\n",
        "        if (new_x, new_y) in future_positions:\n",
        "            return updated_carts + [(new_x, new_y, 'X', next_turn)], (new_x, new_y)  # Return on crash\n",
        "\n",
        "        # Update the set of future positions\n",
        "        future_positions.remove((x, y))\n",
        "        future_positions.add((new_x, new_y))\n",
        "\n",
        "        track_type = track_map[new_y][new_x]\n",
        "        new_direction = direction\n",
        "        new_next_turn = next_turn\n",
        "\n",
        "        if track_type == '+':\n",
        "            if next_turn == 'L':\n",
        "                new_direction = turn_left[direction]\n",
        "                new_next_turn = 'S'\n",
        "            elif next_turn == 'S':\n",
        "                new_direction = go_straight[direction]\n",
        "                new_next_turn = 'R'\n",
        "            elif next_turn == 'R':\n",
        "                new_direction = turn_right[direction]\n",
        "                new_next_turn = 'L'\n",
        "\n",
        "        elif track_type in '/\\\\':\n",
        "            if track_type == '/':\n",
        "                new_direction = '>' if direction == '^' else '<' if direction == 'v' else '^' if direction == '>' else 'v'\n",
        "            else:  # track_type == '\\\\'\n",
        "                new_direction = '<' if direction == '^' else '>' if direction == 'v' else '^' if direction == '<' else 'v'\n",
        "\n",
        "        updated_carts.append((new_x, new_y, new_direction, new_next_turn))\n",
        "\n",
        "    return updated_carts, None  # No crash occurred"
      ],
      "metadata": {
        "id": "JjBaymCBdhZw"
      },
      "execution_count": null,
      "outputs": []
    },
    {
      "cell_type": "code",
      "source": [
        "def print_map_with_carts(track_map, carts):\n",
        "    # Convert the track map into a list of lists for easy manipulation\n",
        "    map_with_carts = [list(row) for row in track_map]\n",
        "\n",
        "    # Overlay the carts onto the map\n",
        "    for x, y, direction, _ in carts:\n",
        "        map_with_carts[y][x] = direction\n",
        "\n",
        "    # Print the map\n",
        "    for row in map_with_carts:\n",
        "        print(''.join(row))"
      ],
      "metadata": {
        "id": "h9YkdQBFeJ2J"
      },
      "execution_count": null,
      "outputs": []
    },
    {
      "cell_type": "code",
      "source": [
        "carts = orig_carts.copy()\n",
        "while True:\n",
        "  # print_map_with_carts(cleaned_map, carts)\n",
        "  carts, crash = move_carts_and_detect_crash(cleaned_map, carts)\n",
        "  if crash:\n",
        "    break\n",
        "# print_map_with_carts(cleaned_map, carts)\n",
        "crash"
      ],
      "metadata": {
        "colab": {
          "base_uri": "https://localhost:8080/"
        },
        "id": "xslnfbBkdXjF",
        "outputId": "48efc900-0164-44bb-88f8-275ebb8adcf0"
      },
      "execution_count": null,
      "outputs": [
        {
          "output_type": "execute_result",
          "data": {
            "text/plain": [
              "(124, 130)"
            ]
          },
          "metadata": {},
          "execution_count": 88
        }
      ]
    },
    {
      "cell_type": "code",
      "source": [
        "def move_carts_and_remove_on_crash(track_map, carts):\n",
        "    direction_deltas = {'^': (0, -1), 'v': (0, 1), '<': (-1, 0), '>': (1, 0)}\n",
        "    turn_left = {'^': '<', 'v': '>', '<': 'v', '>': '^'}\n",
        "    go_straight = {'^': '^', 'v': 'v', '<': '<', '>': '>'}\n",
        "    turn_right = {'^': '>', 'v': '<', '<': '^', '>': 'v'}\n",
        "\n",
        "    carts.sort(key=lambda cart: (cart[1], cart[0]))\n",
        "    updated_carts = []\n",
        "    future_positions = {cart[:2] for cart in carts}  # Positions of all carts before moving\n",
        "    crash_positions = set()  # To track positions of crashes\n",
        "\n",
        "    for x, y, direction, next_turn in carts:\n",
        "        if (x, y) in crash_positions:  # Skip carts that have crashed\n",
        "            continue\n",
        "\n",
        "        dx, dy = direction_deltas[direction]\n",
        "        new_x, new_y = x + dx, y + dy\n",
        "\n",
        "        if (new_x, new_y) in future_positions:\n",
        "            # Remove both carts involved in the crash\n",
        "            updated_carts = [cart for cart in updated_carts if cart[:2] != (new_x, new_y)]\n",
        "            future_positions.remove((new_x, new_y))\n",
        "            crash_positions.add((new_x, new_y))\n",
        "            continue\n",
        "\n",
        "        future_positions.remove((x, y))\n",
        "        future_positions.add((new_x, new_y))\n",
        "\n",
        "        track_type = track_map[new_y][new_x]\n",
        "        new_direction = direction\n",
        "        new_next_turn = next_turn\n",
        "\n",
        "        if track_type == '+':\n",
        "            if next_turn == 'L':\n",
        "                new_direction = turn_left[direction]\n",
        "                new_next_turn = 'S'\n",
        "            elif next_turn == 'S':\n",
        "                new_direction = go_straight[direction]\n",
        "                new_next_turn = 'R'\n",
        "            elif next_turn == 'R':\n",
        "                new_direction = turn_right[direction]\n",
        "                new_next_turn = 'L'\n",
        "\n",
        "        elif track_type in '/\\\\':\n",
        "            if track_type == '/':\n",
        "                new_direction = '>' if direction == '^' else '<' if direction == 'v' else '^' if direction == '>' else 'v'\n",
        "            else:  # track_type == '\\\\'\n",
        "                new_direction = '<' if direction == '^' else '>' if direction == 'v' else '^' if direction == '<' else 'v'\n",
        "\n",
        "        updated_carts.append((new_x, new_y, new_direction, new_next_turn))\n",
        "\n",
        "    return updated_carts"
      ],
      "metadata": {
        "id": "GMPwJjOfaXvZ"
      },
      "execution_count": null,
      "outputs": []
    },
    {
      "cell_type": "code",
      "source": [
        "# data = r\"\"\"/>-<\\\n",
        "# |   |\n",
        "# | /<+-\\\n",
        "# | | | v\n",
        "# \\>+</ |\n",
        "#   |   ^\n",
        "#   \\<->/\"\"\".split('\\n')\n",
        "# cleaned_map, orig_carts = process_tracks(data)"
      ],
      "metadata": {
        "id": "IHEPtqDJlzn3"
      },
      "execution_count": null,
      "outputs": []
    },
    {
      "cell_type": "code",
      "source": [
        "carts = orig_carts.copy()\n",
        "while True:\n",
        "  carts = move_carts_and_remove_on_crash(cleaned_map, carts)\n",
        "  if len(carts) <= 1:\n",
        "    break\n",
        "# print_map_with_carts(cleaned_map, carts)\n",
        "carts"
      ],
      "metadata": {
        "colab": {
          "base_uri": "https://localhost:8080/"
        },
        "id": "2G_HYcZ4lKeH",
        "outputId": "b5f971e6-8429-4060-e6bf-bf158eb33695"
      },
      "execution_count": null,
      "outputs": [
        {
          "output_type": "execute_result",
          "data": {
            "text/plain": [
              "[(143, 123, '^', 'R')]"
            ]
          },
          "metadata": {},
          "execution_count": 91
        }
      ]
    }
  ]
}