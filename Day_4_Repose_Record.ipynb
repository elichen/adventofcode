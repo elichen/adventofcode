{
  "nbformat": 4,
  "nbformat_minor": 0,
  "metadata": {
    "colab": {
      "provenance": [],
      "authorship_tag": "ABX9TyPj8qGzbMekkNZNuPZ32b2P",
      "include_colab_link": true
    },
    "kernelspec": {
      "name": "python3",
      "display_name": "Python 3"
    },
    "language_info": {
      "name": "python"
    }
  },
  "cells": [
    {
      "cell_type": "markdown",
      "metadata": {
        "id": "view-in-github",
        "colab_type": "text"
      },
      "source": [
        "<a href=\"https://colab.research.google.com/github/elichen/aoc2018/blob/main/Day_4_Repose_Record.ipynb\" target=\"_parent\"><img src=\"https://colab.research.google.com/assets/colab-badge.svg\" alt=\"Open In Colab\"/></a>"
      ]
    },
    {
      "cell_type": "code",
      "execution_count": null,
      "metadata": {
        "id": "Z4mCO-4zqx2r"
      },
      "outputs": [],
      "source": [
        "data = \"\"\"[1518-11-01 00:00] Guard #10 begins shift\n",
        "[1518-11-01 00:05] falls asleep\n",
        "[1518-11-01 00:25] wakes up\n",
        "[1518-11-01 00:30] falls asleep\n",
        "[1518-11-01 00:55] wakes up\n",
        "[1518-11-01 23:58] Guard #99 begins shift\n",
        "[1518-11-02 00:40] falls asleep\n",
        "[1518-11-02 00:50] wakes up\n",
        "[1518-11-03 00:05] Guard #10 begins shift\n",
        "[1518-11-03 00:24] falls asleep\n",
        "[1518-11-03 00:29] wakes up\n",
        "[1518-11-04 00:02] Guard #99 begins shift\n",
        "[1518-11-04 00:36] falls asleep\n",
        "[1518-11-04 00:46] wakes up\n",
        "[1518-11-05 00:03] Guard #99 begins shift\n",
        "[1518-11-05 00:45] falls asleep\n",
        "[1518-11-05 00:55] wakes up\"\"\".split('\\n')"
      ]
    },
    {
      "cell_type": "code",
      "source": [
        "data = [x.rstrip() for x in open(\"input.txt\").readlines()]\n",
        "data.sort()"
      ],
      "metadata": {
        "id": "tqzRuxEvuBQG"
      },
      "execution_count": null,
      "outputs": []
    },
    {
      "cell_type": "code",
      "source": [
        "def parse_guard_shifts(shift_logs):\n",
        "    parsed_shifts = {}\n",
        "    current_guard = None\n",
        "\n",
        "    for log in shift_logs:\n",
        "        if \"Guard\" in log:\n",
        "            current_guard = int(log.split('#')[1].split()[0])\n",
        "        elif \"falls asleep\" in log:\n",
        "            sleep_time = int(log.split(':')[1].split(']')[0])\n",
        "        elif \"wakes up\" in log:\n",
        "            wake_time = int(log.split(':')[1].split(']')[0])\n",
        "            asleep_range = (sleep_time, wake_time - 1)\n",
        "            parsed_shifts.setdefault(current_guard, []).append(asleep_range)\n",
        "\n",
        "    return parsed_shifts\n",
        "\n",
        "d = parse_guard_shifts(data)"
      ],
      "metadata": {
        "id": "cyCNH-3Gq0rP"
      },
      "execution_count": null,
      "outputs": []
    },
    {
      "cell_type": "code",
      "source": [
        "from collections import Counter\n",
        "\n",
        "def guard_with_most_sleep(parsed_shifts):\n",
        "    # Calculate total sleep time for each guard\n",
        "    total_sleep_time = {guard: sum(end - start + 1 for start, end in times) for guard, times in parsed_shifts.items()}\n",
        "\n",
        "    # Find the guard with the most sleep time\n",
        "    max_sleep_guard = max(total_sleep_time, key=total_sleep_time.get)\n",
        "\n",
        "    # Count the minutes asleep for the sleepiest guard\n",
        "    sleepiest_guard_minutes = [minute for start, end in parsed_shifts[max_sleep_guard] for minute in range(start, end + 1)]\n",
        "    minute_counter = Counter(sleepiest_guard_minutes)\n",
        "\n",
        "    # Find the minute that the guard spends asleep the most\n",
        "    most_slept_minute = max(minute_counter, key=minute_counter.get)\n",
        "\n",
        "    return max_sleep_guard * most_slept_minute\n",
        "\n",
        "# Calculate the guard with the most minutes asleep and the minute they are asleep the most\n",
        "guard_with_most_sleep(d)"
      ],
      "metadata": {
        "colab": {
          "base_uri": "https://localhost:8080/"
        },
        "id": "loBd68ppq3la",
        "outputId": "0ea02a11-e029-492c-dffb-b919d45754c4"
      },
      "execution_count": null,
      "outputs": [
        {
          "output_type": "execute_result",
          "data": {
            "text/plain": [
              "119835"
            ]
          },
          "metadata": {},
          "execution_count": 27
        }
      ]
    },
    {
      "cell_type": "code",
      "source": [
        "def most_frequent_asleep_minute(parsed_shifts):\n",
        "    guard_minute_counter = Counter()\n",
        "\n",
        "    for guard, times in parsed_shifts.items():\n",
        "        for start, end in times:\n",
        "            for minute in range(start, end + 1):\n",
        "                guard_minute_counter[(guard, minute)] += 1\n",
        "\n",
        "    # Find the guard and minute combination that occurs most frequently\n",
        "    most_frequent_guard_minute = max(guard_minute_counter, key=guard_minute_counter.get)\n",
        "    guard, minute = most_frequent_guard_minute\n",
        "\n",
        "    return guard * minute\n",
        "\n",
        "# Calculate the guard who is most frequently asleep on the same minute\n",
        "most_frequent_asleep_minute(d)"
      ],
      "metadata": {
        "colab": {
          "base_uri": "https://localhost:8080/"
        },
        "id": "DJjrLkt-uOEW",
        "outputId": "9dc5a041-dbce-46df-af1c-cc44f630595f"
      },
      "execution_count": null,
      "outputs": [
        {
          "output_type": "execute_result",
          "data": {
            "text/plain": [
              "12725"
            ]
          },
          "metadata": {},
          "execution_count": 28
        }
      ]
    }
  ]
}