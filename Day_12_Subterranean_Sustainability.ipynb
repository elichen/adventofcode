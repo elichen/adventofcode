{
  "nbformat": 4,
  "nbformat_minor": 0,
  "metadata": {
    "colab": {
      "provenance": [],
      "authorship_tag": "ABX9TyPItuD0QdltccwPgZcldoEl",
      "include_colab_link": true
    },
    "kernelspec": {
      "name": "python3",
      "display_name": "Python 3"
    },
    "language_info": {
      "name": "python"
    }
  },
  "cells": [
    {
      "cell_type": "markdown",
      "metadata": {
        "id": "view-in-github",
        "colab_type": "text"
      },
      "source": [
        "<a href=\"https://colab.research.google.com/github/elichen/aoc2018/blob/main/Day_12_Subterranean_Sustainability.ipynb\" target=\"_parent\"><img src=\"https://colab.research.google.com/assets/colab-badge.svg\" alt=\"Open In Colab\"/></a>"
      ]
    },
    {
      "cell_type": "code",
      "execution_count": null,
      "metadata": {
        "id": "nQv1H1Q3FiKy"
      },
      "outputs": [],
      "source": [
        "init = \"#..#.#..##......###...###\"\n",
        "data = \"\"\"...## => #\n",
        "..#.. => #\n",
        ".#... => #\n",
        ".#.#. => #\n",
        ".#.## => #\n",
        ".##.. => #\n",
        ".#### => #\n",
        "#.#.# => #\n",
        "#.### => #\n",
        "##.#. => #\n",
        "##.## => #\n",
        "###.. => #\n",
        "###.# => #\n",
        "####. => #\"\"\".split('\\n')"
      ]
    },
    {
      "cell_type": "code",
      "source": [
        "init = \"#.#.#..##.#....#.#.##..##.##..#..#...##....###..#......###.#..#.....#.###.#...#####.####...#####.#.#\"\n",
        "data = \"\"\"..#.. => .\n",
        "#...# => .\n",
        ".#... => #\n",
        "#.##. => .\n",
        "..#.# => #\n",
        "#.#.# => .\n",
        "###.. => #\n",
        "###.# => #\n",
        "..... => .\n",
        "....# => .\n",
        ".##.. => #\n",
        "##### => .\n",
        "####. => .\n",
        "..##. => .\n",
        "##.#. => #\n",
        ".#..# => #\n",
        "##..# => .\n",
        ".##.# => .\n",
        ".#### => #\n",
        "..### => .\n",
        "...## => #\n",
        "#..## => #\n",
        "#.... => .\n",
        "##.## => .\n",
        "#.#.. => .\n",
        "##... => .\n",
        ".#.## => #\n",
        ".###. => #\n",
        "...#. => .\n",
        "#.### => .\n",
        "#..#. => #\n",
        ".#.#. => .\"\"\".split('\\n')"
      ],
      "metadata": {
        "id": "BXbImborRuXj"
      },
      "execution_count": null,
      "outputs": []
    },
    {
      "cell_type": "code",
      "source": [
        "parsed_dict = {item.split(\" => \")[0]: item.split(\" => \")[1] for item in data}"
      ],
      "metadata": {
        "id": "8inFEyvVFrbS"
      },
      "execution_count": null,
      "outputs": []
    },
    {
      "cell_type": "code",
      "source": [
        "def transform_string_with_conditional_padding(input_string, left_offset, mapping_dict):\n",
        "    # Padding with \".\" only if necessary to ensure at least 3 \".\" on both sides\n",
        "    left_padding = 3\n",
        "    right_padding = 3 - (len(input_string) - input_string.rfind('#') - 1) if (len(input_string) - input_string.rfind('#') - 1) < 3 else 0\n",
        "\n",
        "    extended_string = (\".\" * left_padding) + input_string + (\".\" * right_padding)\n",
        "\n",
        "    # Initializing the output string\n",
        "    output_string = \"\"\n",
        "\n",
        "    # Iterating through each sequence of 5 characters in the extended string\n",
        "    for i in range(len(extended_string) - 4):\n",
        "        sequence = extended_string[i:i + 5]\n",
        "        # Looking up the sequence in the dictionary and appending to the output string\n",
        "        c = mapping_dict.get(sequence, \".\")\n",
        "        if i > 0:\n",
        "          output_string += c\n",
        "        elif c == \"#\":\n",
        "          left_offset += 1\n",
        "          output_string += c\n",
        "\n",
        "    return output_string, left_offset"
      ],
      "metadata": {
        "id": "YPgoPYZFGSLi"
      },
      "execution_count": null,
      "outputs": []
    },
    {
      "cell_type": "code",
      "source": [
        "s = init\n",
        "left_offset = 0\n",
        "for i in range(1,21):\n",
        "  s,left_offset = transform_string_with_conditional_padding(s, left_offset, parsed_dict)\n",
        "  # print(i,s,left_offset)\n",
        "indices = [index-left_offset for index, char in enumerate(s) if char == '#']\n",
        "sum(indices)"
      ],
      "metadata": {
        "colab": {
          "base_uri": "https://localhost:8080/"
        },
        "id": "fyjx0zHlH7AN",
        "outputId": "c968953e-8ce6-40d9-eebc-922e0acefd0d"
      },
      "execution_count": null,
      "outputs": [
        {
          "output_type": "execute_result",
          "data": {
            "text/plain": [
              "1917"
            ]
          },
          "metadata": {},
          "execution_count": 84
        }
      ]
    },
    {
      "cell_type": "code",
      "source": [
        "s = init\n",
        "left_offset = 0\n",
        "seq = []\n",
        "for i in range(1,1000+1):\n",
        "  s,left_offset = transform_string_with_conditional_padding(s, left_offset, parsed_dict)\n",
        "  indices = [index-left_offset for index, char in enumerate(s) if char == '#']\n",
        "  seq.append(sum(indices))\n",
        "\n",
        "import matplotlib.pyplot as plt\n",
        "plt.figure(figsize=(10, 5))\n",
        "plt.plot(seq)\n",
        "plt.show()"
      ],
      "metadata": {
        "colab": {
          "base_uri": "https://localhost:8080/",
          "height": 445
        },
        "id": "ymx8lyLtLh-F",
        "outputId": "ded47c5e-2306-4c31-e838-0f1c96500e7b"
      },
      "execution_count": null,
      "outputs": [
        {
          "output_type": "display_data",
          "data": {
            "text/plain": [
              "<Figure size 1000x500 with 1 Axes>"
            ],
            "image/png": "[encoded data removed]"
          },
          "metadata": {}
        }
      ]
    },
    {
      "cell_type": "code",
      "source": [
        "6041-6016, 6066-6041, 6091-6066"
      ],
      "metadata": {
        "colab": {
          "base_uri": "https://localhost:8080/"
        },
        "id": "gzhIuGCaWeo8",
        "outputId": "2a485b1e-3ad8-4068-dd94-47c0b5fdd111"
      },
      "execution_count": null,
      "outputs": [
        {
          "output_type": "execute_result",
          "data": {
            "text/plain": [
              "(25, 25, 25)"
            ]
          },
          "metadata": {},
          "execution_count": 98
        }
      ]
    },
    {
      "cell_type": "code",
      "source": [
        "x = 50000000000-1\n",
        "m = 25\n",
        "b = 1016\n",
        "m*x+b"
      ],
      "metadata": {
        "colab": {
          "base_uri": "https://localhost:8080/"
        },
        "id": "PjNOtGO6WqKc",
        "outputId": "88fafa6c-21c1-45c0-ee12-0849c03fd204"
      },
      "execution_count": null,
      "outputs": [
        {
          "output_type": "execute_result",
          "data": {
            "text/plain": [
              "1250000000991"
            ]
          },
          "metadata": {},
          "execution_count": 108
        }
      ]
    }
  ]
}