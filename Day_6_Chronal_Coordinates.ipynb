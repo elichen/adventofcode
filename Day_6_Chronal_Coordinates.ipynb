{
  "nbformat": 4,
  "nbformat_minor": 0,
  "metadata": {
    "colab": {
      "provenance": [],
      "authorship_tag": "ABX9TyPlmac3uEN8ZJLJLmqfjD7B",
      "include_colab_link": true
    },
    "kernelspec": {
      "name": "python3",
      "display_name": "Python 3"
    },
    "language_info": {
      "name": "python"
    }
  },
  "cells": [
    {
      "cell_type": "markdown",
      "metadata": {
        "id": "view-in-github",
        "colab_type": "text"
      },
      "source": [
        "<a href=\"https://colab.research.google.com/github/elichen/aoc2018/blob/main/Day_6_Chronal_Coordinates.ipynb\" target=\"_parent\"><img src=\"https://colab.research.google.com/assets/colab-badge.svg\" alt=\"Open In Colab\"/></a>"
      ]
    },
    {
      "cell_type": "code",
      "execution_count": null,
      "metadata": {
        "id": "7D4QDCRxTylh"
      },
      "outputs": [],
      "source": [
        "data = \"\"\"1, 1\n",
        "1, 6\n",
        "8, 3\n",
        "3, 4\n",
        "5, 5\n",
        "8, 9\"\"\".split('\\n')"
      ]
    },
    {
      "cell_type": "code",
      "source": [
        "data = [x.rstrip() for x in open(\"input.txt\").readlines()]"
      ],
      "metadata": {
        "id": "k79GXSd8Xx-D"
      },
      "execution_count": null,
      "outputs": []
    },
    {
      "cell_type": "code",
      "source": [
        "import numpy as np\n",
        "\n",
        "def parse_coordinates(coordinates):\n",
        "    # Convert string coordinates to tuples of integers\n",
        "    coord_tuples = [tuple(map(int, coord.split(','))) for coord in coordinates]\n",
        "\n",
        "    # Find the range of the coordinates\n",
        "    x_coords, y_coords = zip(*coord_tuples)\n",
        "    min_x, max_x = min(x_coords), max(x_coords)\n",
        "    min_y, max_y = min(y_coords), max(y_coords)\n",
        "\n",
        "    # Initialize the array\n",
        "    grid = np.zeros((max_y - min_y + 1, max_x - min_x + 1), dtype=int)\n",
        "\n",
        "    # Calculate Manhattan distances and mark the grid\n",
        "    for y in range(min_y, max_y + 1):\n",
        "        for x in range(min_x, max_x + 1):\n",
        "            distances = [abs(x - cx) + abs(y - cy) for cx, cy in coord_tuples]\n",
        "            min_distance = min(distances)\n",
        "            if distances.count(min_distance) == 1:\n",
        "                closest_coord_index = distances.index(min_distance)\n",
        "                closest_coord = coord_tuples[closest_coord_index]\n",
        "                # Check if the closest coordinate is not at the edge\n",
        "                if closest_coord[0] != min_x and closest_coord[0] != max_x and closest_coord[1] != min_y and closest_coord[1] != max_y:\n",
        "                  grid[y - min_y, x - min_x] = closest_coord_index + 1\n",
        "\n",
        "    return grid\n",
        "\n",
        "result = parse_coordinates(data)"
      ],
      "metadata": {
        "id": "AUtT1lYJUBks"
      },
      "execution_count": null,
      "outputs": []
    },
    {
      "cell_type": "code",
      "source": [
        "from collections import Counter\n",
        "\n",
        "# Count the frequency of each tuple index in the array\n",
        "index_counts = Counter(result.flatten())\n",
        "\n",
        "# Remove the count of 0 as it represents cells that are not closest to any tuple\n",
        "if 0 in index_counts:\n",
        "    del index_counts[0]\n",
        "\n",
        "# Find the tuple index with the largest count and return its count\n",
        "largest_count_index = max(index_counts, key=index_counts.get)\n",
        "index_counts[largest_count_index]"
      ],
      "metadata": {
        "colab": {
          "base_uri": "https://localhost:8080/"
        },
        "id": "ZGB2kURwXa1s",
        "outputId": "5cb2b228-4c06-4877-e0eb-3eac687eace0"
      },
      "execution_count": null,
      "outputs": [
        {
          "output_type": "execute_result",
          "data": {
            "text/plain": [
              "3969"
            ]
          },
          "metadata": {},
          "execution_count": 33
        }
      ]
    },
    {
      "cell_type": "code",
      "source": [
        "def parse_coordinates_with_small_buffer(coordinates, buffer_size=10):\n",
        "    # Convert string coordinates to tuples of integers\n",
        "    coord_tuples = [tuple(map(int, coord.split(','))) for coord in coordinates]\n",
        "\n",
        "    # Find the range of the coordinates\n",
        "    x_coords, y_coords = zip(*coord_tuples)\n",
        "    min_x, max_x = min(x_coords), max(x_coords)\n",
        "    min_y, max_y = min(y_coords), max(y_coords)\n",
        "\n",
        "    # Adding a buffer on all borders\n",
        "    grid_size_x = max_x - min_x + 1 + 2 * buffer_size\n",
        "    grid_size_y = max_y - min_y + 1 + 2 * buffer_size\n",
        "\n",
        "    # Initialize the array\n",
        "    grid = np.zeros((grid_size_y, grid_size_x), dtype=int)\n",
        "\n",
        "    # Calculate the sum of Manhattan distances for each cell\n",
        "    for y in range(min_y - buffer_size, max_y + buffer_size + 1):\n",
        "        for x in range(min_x - buffer_size, max_x + buffer_size + 1):\n",
        "            total_distance = sum([abs(x - cx) + abs(y - cy) for cx, cy in coord_tuples])\n",
        "            grid[y - (min_y - buffer_size), x - (min_x - buffer_size)] = total_distance\n",
        "\n",
        "    return grid\n",
        "\n",
        "result = parse_coordinates_with_small_buffer(data, buffer_size=10)"
      ],
      "metadata": {
        "id": "J-1fd-AWZOXc"
      },
      "execution_count": null,
      "outputs": []
    },
    {
      "cell_type": "code",
      "source": [
        "np.sum(result < 10000)"
      ],
      "metadata": {
        "colab": {
          "base_uri": "https://localhost:8080/"
        },
        "id": "2frvZJb3Zjgd",
        "outputId": "a64dd040-eb16-4172-f511-9045d9f1b607"
      },
      "execution_count": null,
      "outputs": [
        {
          "output_type": "execute_result",
          "data": {
            "text/plain": [
              "42123"
            ]
          },
          "metadata": {},
          "execution_count": 35
        }
      ]
    }
  ]
}