{
  "nbformat": 4,
  "nbformat_minor": 0,
  "metadata": {
    "colab": {
      "provenance": [],
      "authorship_tag": "ABX9TyObuYWub7p5SsCblVvFb2+3",
      "include_colab_link": true
    },
    "kernelspec": {
      "name": "python3",
      "display_name": "Python 3"
    },
    "language_info": {
      "name": "python"
    }
  },
  "cells": [
    {
      "cell_type": "markdown",
      "metadata": {
        "id": "view-in-github",
        "colab_type": "text"
      },
      "source": [
        "<a href=\"https://colab.research.google.com/github/elichen/aoc2018/blob/main/Day_9_Marble_Mania.ipynb\" target=\"_parent\"><img src=\"https://colab.research.google.com/assets/colab-badge.svg\" alt=\"Open In Colab\"/></a>"
      ]
    },
    {
      "cell_type": "code",
      "execution_count": null,
      "metadata": {
        "colab": {
          "base_uri": "https://localhost:8080/"
        },
        "id": "QBUTT-irmXZ5",
        "outputId": "5185d5ea-8813-4051-ff7c-3d7cabd6efa7"
      },
      "outputs": [
        {
          "output_type": "execute_result",
          "data": {
            "text/plain": [
              "2764"
            ]
          },
          "metadata": {},
          "execution_count": 53
        }
      ],
      "source": [
        "def play_marble_game(num_players, stop):\n",
        "    # Initialize game variables\n",
        "    circle = [0]  # The marble circle, starting with marble 0\n",
        "    current_marble_index = 0  # Index of the current marble in the circle\n",
        "    scores = [0] * num_players  # Scores for each player, initialized to 0\n",
        "    next_marble = 1  # The next marble to be placed\n",
        "    current_player = 0  # Current player index, starting with player 0\n",
        "\n",
        "    # Game loop\n",
        "    while next_marble-1 != stop:\n",
        "        if next_marble % 23 == 0:\n",
        "            # Special rule for multiples of 23\n",
        "            remove_index = (current_marble_index - 7) % len(circle)\n",
        "            last_score = next_marble + circle.pop(remove_index)\n",
        "            scores[current_player] += last_score\n",
        "            current_marble_index = remove_index % len(circle)\n",
        "        else:\n",
        "            # Normal marble placement\n",
        "            insert_index = (current_marble_index + 2) % len(circle)\n",
        "            if insert_index == 0:\n",
        "                insert_index = len(circle)\n",
        "            circle.insert(insert_index, next_marble)\n",
        "            current_marble_index = insert_index\n",
        "        # print(circle, next_marble)\n",
        "\n",
        "        # Prepare for next turn\n",
        "        next_marble += 1\n",
        "        current_player = (current_player + 1) % num_players\n",
        "\n",
        "    return scores\n",
        "\n",
        "num_players = 419\n",
        "stop_score = 72164\n",
        "max(play_marble_game(num_players, stop_score))"
      ]
    },
    {
      "cell_type": "code",
      "source": [
        "class Node:\n",
        "    \"\"\"A node in the circular linked list for the marble game\"\"\"\n",
        "    def __init__(self, value):\n",
        "        self.value = value\n",
        "        self.next = None\n",
        "        self.prev = None\n",
        "\n",
        "class CircularLinkedList:\n",
        "    \"\"\"A circular linked list implementation\"\"\"\n",
        "    def __init__(self):\n",
        "        self.current = None\n",
        "\n",
        "    def insert(self, value):\n",
        "        \"\"\"Inserts a node with the given value after the current node\"\"\"\n",
        "        new_node = Node(value)\n",
        "        if self.current is None:\n",
        "            # Initialize the list with a single node pointing to itself\n",
        "            new_node.next = new_node\n",
        "            new_node.prev = new_node\n",
        "            self.current = new_node\n",
        "        else:\n",
        "            # Insert new node between current and current.next\n",
        "            new_node.prev = self.current\n",
        "            new_node.next = self.current.next\n",
        "            self.current.next.prev = new_node\n",
        "            self.current.next = new_node\n",
        "\n",
        "    def remove(self):\n",
        "        \"\"\"Removes and returns the current node from the list\"\"\"\n",
        "        removed_value = self.current.value\n",
        "        self.current.prev.next = self.current.next\n",
        "        self.current.next.prev = self.current.prev\n",
        "        self.current = self.current.next\n",
        "        return removed_value\n",
        "\n",
        "    def move(self, steps):\n",
        "        \"\"\"Moves the current node forward (positive steps) or backward (negative steps)\"\"\"\n",
        "        for _ in range(abs(steps)):\n",
        "            if steps > 0:\n",
        "                self.current = self.current.next\n",
        "            else:\n",
        "                self.current = self.current.prev\n",
        "        return self.current.value\n",
        "\n",
        "def play_marble_game_circular(num_players, stop_score):\n",
        "    circle = CircularLinkedList()\n",
        "    circle.insert(0)  # Start with marble 0\n",
        "    scores = [0] * num_players\n",
        "    next_marble = 1\n",
        "    current_player = 0\n",
        "\n",
        "    while next_marble-1 != stop_score:\n",
        "        if next_marble % 23 == 0:\n",
        "            scores[current_player] += next_marble\n",
        "            circle.move(-7)\n",
        "            scores[current_player] += circle.remove()\n",
        "        else:\n",
        "            circle.move(1)\n",
        "            circle.insert(next_marble)\n",
        "            circle.move(1)  # Move to the newly inserted marble\n",
        "\n",
        "        next_marble += 1\n",
        "        current_player = (current_player + 1) % num_players\n",
        "\n",
        "    return scores\n",
        "\n",
        "num_players = 419\n",
        "stop_score = 72164 * 100\n",
        "scores_circular = play_marble_game_circular(num_players, stop_score)\n",
        "max(scores_circular)"
      ],
      "metadata": {
        "colab": {
          "base_uri": "https://localhost:8080/"
        },
        "id": "HUt4F-SXokh6",
        "outputId": "e81bb1f1-ca49-4bd7-ca26-1baa613f2cb8"
      },
      "execution_count": null,
      "outputs": [
        {
          "output_type": "execute_result",
          "data": {
            "text/plain": [
              "3553108197"
            ]
          },
          "metadata": {},
          "execution_count": 62
        }
      ]
    }
  ]
}