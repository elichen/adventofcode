{
  "nbformat": 4,
  "nbformat_minor": 0,
  "metadata": {
    "colab": {
      "provenance": [],
      "authorship_tag": "ABX9TyPY9ZjJJ9CN2Aopa59jCTap",
      "include_colab_link": true
    },
    "kernelspec": {
      "name": "python3",
      "display_name": "Python 3"
    },
    "language_info": {
      "name": "python"
    }
  },
  "cells": [
    {
      "cell_type": "markdown",
      "metadata": {
        "id": "view-in-github",
        "colab_type": "text"
      },
      "source": [
        "<a href=\"https://colab.research.google.com/github/elichen/aoc2018/blob/main/Day_2_Inventory_Management_System.ipynb\" target=\"_parent\"><img src=\"https://colab.research.google.com/assets/colab-badge.svg\" alt=\"Open In Colab\"/></a>"
      ]
    },
    {
      "cell_type": "code",
      "source": [
        "data = [x.rstrip() for x in open(\"input.txt\").readlines()]"
      ],
      "metadata": {
        "id": "4WvpqEarkFHX"
      },
      "execution_count": null,
      "outputs": []
    },
    {
      "cell_type": "code",
      "source": [
        "# data = \"\"\"abcdef\n",
        "# bababc\n",
        "# abbcde\n",
        "# abcccd\n",
        "# aabcdd\n",
        "# abcdee\n",
        "# ababab\"\"\".split('\\n')"
      ],
      "metadata": {
        "id": "JVSOySw2ktw-"
      },
      "execution_count": null,
      "outputs": []
    },
    {
      "cell_type": "code",
      "execution_count": null,
      "metadata": {
        "colab": {
          "base_uri": "https://localhost:8080/"
        },
        "id": "BDjkoB8RjKfT",
        "outputId": "215a7b16-5f60-4bd5-ecaf-06f4ec5535d5"
      },
      "outputs": [
        {
          "output_type": "execute_result",
          "data": {
            "text/plain": [
              "6944"
            ]
          },
          "metadata": {},
          "execution_count": 6
        }
      ],
      "source": [
        "from collections import Counter\n",
        "\n",
        "twos = 0\n",
        "threes = 0\n",
        "for s in data:\n",
        "  c = Counter(s).values()\n",
        "  if 2 in c: twos += 1\n",
        "  if 3 in c: threes += 1\n",
        "twos * threes"
      ]
    },
    {
      "cell_type": "code",
      "source": [
        "pip install python-Levenshtein"
      ],
      "metadata": {
        "colab": {
          "base_uri": "https://localhost:8080/"
        },
        "id": "5Pc4ichBlYJG",
        "outputId": "a8a57b9d-2499-413b-c182-4c236e7188f0"
      },
      "execution_count": null,
      "outputs": [
        {
          "output_type": "stream",
          "name": "stdout",
          "text": [
            "Collecting python-Levenshtein\n",
            "  Downloading python_Levenshtein-0.23.0-py3-none-any.whl (9.4 kB)\n",
            "Collecting Levenshtein==0.23.0 (from python-Levenshtein)\n",
            "  Downloading Levenshtein-0.23.0-cp310-cp310-manylinux_2_17_x86_64.manylinux2014_x86_64.whl (169 kB)\n",
            "\u001b[2K     \u001b[90m━━━━━━━━━━━━━━━━━━━━━━━━━━━━━━━━━━━━━━━━\u001b[0m \u001b[32m169.4/169.4 kB\u001b[0m \u001b[31m1.5 MB/s\u001b[0m eta \u001b[36m0:00:00\u001b[0m\n",
            "\u001b[?25hCollecting rapidfuzz<4.0.0,>=3.1.0 (from Levenshtein==0.23.0->python-Levenshtein)\n",
            "  Downloading rapidfuzz-3.6.1-cp310-cp310-manylinux_2_17_x86_64.manylinux2014_x86_64.whl (3.4 MB)\n",
            "\u001b[2K     \u001b[90m━━━━━━━━━━━━━━━━━━━━━━━━━━━━━━━━━━━━━━━━\u001b[0m \u001b[32m3.4/3.4 MB\u001b[0m \u001b[31m3.5 MB/s\u001b[0m eta \u001b[36m0:00:00\u001b[0m\n",
            "\u001b[?25hInstalling collected packages: rapidfuzz, Levenshtein, python-Levenshtein\n",
            "Successfully installed Levenshtein-0.23.0 python-Levenshtein-0.23.0 rapidfuzz-3.6.1\n"
          ]
        }
      ]
    },
    {
      "cell_type": "code",
      "source": [
        "import Levenshtein\n",
        "\n",
        "for i in range(len(data)):\n",
        "    for j in range(i + 1, len(data)):\n",
        "        distance = Levenshtein.distance(data[i], data[j])\n",
        "        if distance == 1:\n",
        "          strings = data[i], data[j]\n",
        "          break\n",
        "strings"
      ],
      "metadata": {
        "colab": {
          "base_uri": "https://localhost:8080/"
        },
        "id": "_5cs3di1mV23",
        "outputId": "3c19cd69-e12a-4855-a552-ce979d430e14"
      },
      "execution_count": null,
      "outputs": [
        {
          "output_type": "execute_result",
          "data": {
            "text/plain": [
              "('srijafjzloguvlnvtqmphenbkd', 'srijafjzloguvlnctqmphenbkd')"
            ]
          },
          "metadata": {},
          "execution_count": 8
        }
      ]
    },
    {
      "cell_type": "code",
      "source": [
        "def common_letters_ordered(str1, str2):\n",
        "    common = []\n",
        "    last_found_index = -1\n",
        "    for char in str1:\n",
        "        found_index = str2.find(char, last_found_index + 1)\n",
        "        if found_index != -1:\n",
        "            common.append(char)\n",
        "            last_found_index = found_index\n",
        "    return ''.join(common)\n",
        "\n",
        "common_characters = common_letters_ordered(strings[0], strings[1])\n",
        "print(f\"Common letters in order: {common_characters}\")"
      ],
      "metadata": {
        "colab": {
          "base_uri": "https://localhost:8080/"
        },
        "id": "cJsSh6nq0_K2",
        "outputId": "8a15c0be-2385-4b4d-894b-0ee1ab164789"
      },
      "execution_count": null,
      "outputs": [
        {
          "output_type": "stream",
          "name": "stdout",
          "text": [
            "Common letters in order: srijafjzloguvlntqmphenbkd\n"
          ]
        }
      ]
    }
  ]
}