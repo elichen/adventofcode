{
  "nbformat": 4,
  "nbformat_minor": 0,
  "metadata": {
    "colab": {
      "provenance": [],
      "authorship_tag": "ABX9TyPMJ4Ko+k4wd6Pqn3svcmBy",
      "include_colab_link": true
    },
    "kernelspec": {
      "name": "python3",
      "display_name": "Python 3"
    },
    "language_info": {
      "name": "python"
    }
  },
  "cells": [
    {
      "cell_type": "markdown",
      "metadata": {
        "id": "view-in-github",
        "colab_type": "text"
      },
      "source": [
        "<a href=\"https://colab.research.google.com/github/elichen/aoc2018/blob/main/Day_14_Chocolate_Charts.ipynb\" target=\"_parent\"><img src=\"https://colab.research.google.com/assets/colab-badge.svg\" alt=\"Open In Colab\"/></a>"
      ]
    },
    {
      "cell_type": "code",
      "execution_count": null,
      "metadata": {
        "colab": {
          "base_uri": "https://localhost:8080/",
          "height": 35
        },
        "id": "osmygLGAf8xi",
        "outputId": "1a7e90bc-13e1-4313-f3ad-992e1fffd733"
      },
      "outputs": [
        {
          "output_type": "execute_result",
          "data": {
            "text/plain": [
              "'9411137133'"
            ],
            "application/vnd.google.colaboratory.intrinsic+json": {
              "type": "string"
            }
          },
          "metadata": {},
          "execution_count": 7
        }
      ],
      "source": [
        "def generate_recipes(skip):\n",
        "    scores = [3, 7]  # initial scores\n",
        "    elf1, elf2 = 0, 1  # positions of elves\n",
        "\n",
        "    # Iterate 'skip' times plus 10 for the final recipes\n",
        "    for _ in range(skip + 10):\n",
        "        # Sum of current recipes\n",
        "        total = scores[elf1] + scores[elf2]\n",
        "\n",
        "        # Split total into digits and add to scores\n",
        "        scores.extend(divmod(total, 10) if total >= 10 else [total])\n",
        "\n",
        "        # Move each elf forward\n",
        "        elf1 = (elf1 + scores[elf1] + 1) % len(scores)\n",
        "        elf2 = (elf2 + scores[elf2] + 1) % len(scores)\n",
        "\n",
        "    # Return the last 10 recipes after 'skip' iterations\n",
        "    return scores[skip:skip + 10]\n",
        "\n",
        "\"\".join(map(str, generate_recipes(157901)))"
      ]
    },
    {
      "cell_type": "code",
      "source": [
        "def count_recipes_before_sequence(n):\n",
        "    scores = [3, 7]  # initial scores\n",
        "    elf1, elf2 = 0, 1  # positions of elves\n",
        "    sequence = [int(digit) for digit in n]  # convert n to a list of its digits\n",
        "\n",
        "    while scores[-len(sequence):] != sequence and scores[-len(sequence)-1:-1] != sequence:\n",
        "        # Sum of current recipes\n",
        "        total = scores[elf1] + scores[elf2]\n",
        "\n",
        "        # Split total into digits and add to scores\n",
        "        scores.extend(divmod(total, 10) if total >= 10 else [total])\n",
        "\n",
        "        # Move each elf forward\n",
        "        elf1 = (elf1 + scores[elf1] + 1) % len(scores)\n",
        "        elf2 = (elf2 + scores[elf2] + 1) % len(scores)\n",
        "\n",
        "    # Check where the sequence is found\n",
        "    return len(scores) - len(sequence) - (0 if scores[-len(sequence):] == sequence else 1)\n",
        "\n",
        "count_recipes_before_sequence(\"157901\")"
      ],
      "metadata": {
        "colab": {
          "base_uri": "https://localhost:8080/"
        },
        "id": "34wV_EqSwGvh",
        "outputId": "daa7198e-05f1-4b80-d60f-d63c66af7013"
      },
      "execution_count": null,
      "outputs": [
        {
          "output_type": "execute_result",
          "data": {
            "text/plain": [
              "20317612"
            ]
          },
          "metadata": {},
          "execution_count": 16
        }
      ]
    }
  ]
}