{
  "nbformat": 4,
  "nbformat_minor": 0,
  "metadata": {
    "colab": {
      "provenance": [],
      "authorship_tag": "ABX9TyPTAvJouBuzSQe7wkJaybVM",
      "include_colab_link": true
    },
    "kernelspec": {
      "name": "python3",
      "display_name": "Python 3"
    },
    "language_info": {
      "name": "python"
    }
  },
  "cells": [
    {
      "cell_type": "markdown",
      "metadata": {
        "id": "view-in-github",
        "colab_type": "text"
      },
      "source": [
        "<a href=\"https://colab.research.google.com/github/elichen/aoc2018/blob/main/Day_22_Mode_Maze.ipynb\" target=\"_parent\"><img src=\"https://colab.research.google.com/assets/colab-badge.svg\" alt=\"Open In Colab\"/></a>"
      ]
    },
    {
      "cell_type": "code",
      "execution_count": 15,
      "metadata": {
        "colab": {
          "base_uri": "https://localhost:8080/"
        },
        "id": "DH0NaFBk7_xb",
        "outputId": "bfd1ecef-dcae-4864-a64b-d566c91f54f4"
      },
      "outputs": [
        {
          "output_type": "execute_result",
          "data": {
            "text/plain": [
              "4479"
            ]
          },
          "metadata": {},
          "execution_count": 15
        }
      ],
      "source": [
        "def create_cave_system_int(depth, target):\n",
        "    x, y = target\n",
        "    erosion_level = np.zeros((x + 1, y + 1), dtype=int)\n",
        "    type_array = np.zeros((x + 1, y + 1), dtype=int)\n",
        "\n",
        "    for i in range(x + 1):\n",
        "        for j in range(y + 1):\n",
        "            if (i, j) in [(0, 0), target]:\n",
        "                geo_idx = 0\n",
        "            elif j == 0:\n",
        "                geo_idx = i * 16807\n",
        "            elif i == 0:\n",
        "                geo_idx = j * 48271\n",
        "            else:\n",
        "                geo_idx = erosion_level[i - 1, j] * erosion_level[i, j - 1]\n",
        "\n",
        "            erosion = (geo_idx + depth) % 20183\n",
        "            erosion_level[i, j] = erosion\n",
        "            type_array[i, j] = erosion % 3\n",
        "\n",
        "    return type_array\n",
        "\n",
        "# Test the function with integers for types\n",
        "target = (5,746)\n",
        "depth = 4002\n",
        "m = create_cave_system_int(depth, target)\n",
        "np.sum(m)"
      ]
    },
    {
      "cell_type": "code",
      "source": [
        "def create_cave_system_int2(depth, target_x, target_y, padding = 100):\n",
        "    x, y = target_x+100, target_y+100\n",
        "    erosion_level = np.zeros((x + 1, y + 1), dtype=int)\n",
        "    type_array = np.zeros((x + 1, y + 1), dtype=int)\n",
        "\n",
        "    for i in range(x + 1):\n",
        "        for j in range(y + 1):\n",
        "            if (i, j) in [(0, 0), target]:\n",
        "                geo_idx = 0\n",
        "            elif j == 0:\n",
        "                geo_idx = i * 16807\n",
        "            elif i == 0:\n",
        "                geo_idx = j * 48271\n",
        "            else:\n",
        "                geo_idx = erosion_level[i - 1, j] * erosion_level[i, j - 1]\n",
        "\n",
        "            erosion = (geo_idx + depth) % 20183\n",
        "            erosion_level[i, j] = erosion\n",
        "            type_array[i, j] = erosion % 3\n",
        "\n",
        "    return type_array\n",
        "\n",
        "# Test the function with integers for types\n",
        "m = create_cave_system_int2(depth, target[0], target[1], padding=10)\n",
        "m"
      ],
      "metadata": {
        "colab": {
          "base_uri": "https://localhost:8080/"
        },
        "id": "EK0THUorMJJE",
        "outputId": "9ff1ee91-a8b0-4ee0-f4d5-e9a6a062c82a"
      },
      "execution_count": 16,
      "outputs": [
        {
          "output_type": "execute_result",
          "data": {
            "text/plain": [
              "array([[0, 0, 0, ..., 0, 1, 1],\n",
              "       [2, 0, 0, ..., 0, 2, 1],\n",
              "       [0, 0, 2, ..., 2, 0, 2],\n",
              "       ...,\n",
              "       [2, 0, 2, ..., 1, 0, 2],\n",
              "       [1, 0, 2, ..., 1, 2, 1],\n",
              "       [0, 2, 2, ..., 2, 1, 2]])"
            ]
          },
          "metadata": {},
          "execution_count": 16
        }
      ]
    },
    {
      "cell_type": "code",
      "source": [
        "import heapq\n",
        "\n",
        "def dijkstra_shortest_path(type_array, target):\n",
        "    # Define the tools and region types\n",
        "    ROCKY, WET, NARROW = 0, 1, 2\n",
        "    TORCH, CLIMBING, NEITHER = 0, 1, 2\n",
        "\n",
        "    # Tools valid for each region type\n",
        "    valid_tools = {\n",
        "        ROCKY: {TORCH, CLIMBING},\n",
        "        WET: {CLIMBING, NEITHER},\n",
        "        NARROW: {TORCH, NEITHER}\n",
        "    }\n",
        "\n",
        "    # Starting point\n",
        "    start = (0, 0, TORCH)\n",
        "\n",
        "    # Priority queue for Dijkstra (time, state)\n",
        "    pq = []\n",
        "    heapq.heappush(pq, (0, start))\n",
        "\n",
        "    # Visited states with the shortest time recorded\n",
        "    visited = {start: 0}\n",
        "\n",
        "    while pq:\n",
        "        time, (x, y, tool) = heapq.heappop(pq)\n",
        "\n",
        "        # Check if target is reached with torch\n",
        "        if (x, y) == target and tool == TORCH:\n",
        "            return time\n",
        "\n",
        "        # Explore adjacent cells\n",
        "        for dx, dy in [(0, 1), (1, 0), (0, -1), (-1, 0)]:\n",
        "            nx, ny = x + dx, y + dy\n",
        "            if 0 <= nx < type_array.shape[0] and 0 <= ny < type_array.shape[1]:\n",
        "                next_region_type = type_array[nx, ny]\n",
        "                if tool in valid_tools[next_region_type]:\n",
        "                    next_state = (nx, ny, tool)\n",
        "                    new_time = time + 1\n",
        "                    if next_state not in visited or new_time < visited[next_state]:\n",
        "                        heapq.heappush(pq, (new_time, next_state))\n",
        "                        visited[next_state] = new_time\n",
        "\n",
        "        # Explore tool change\n",
        "        current_region_type = type_array[x, y]\n",
        "        for next_tool in valid_tools[current_region_type]:\n",
        "            if next_tool != tool:\n",
        "                next_state = (x, y, next_tool)\n",
        "                new_time = time + 7\n",
        "                if next_state not in visited or new_time < visited[next_state]:\n",
        "                    heapq.heappush(pq, (new_time, next_state))\n",
        "                    visited[next_state] = new_time\n",
        "\n",
        "    return -1  # If target is not reachable\n",
        "\n",
        "# Test the Dijkstra's algorithm implementation\n",
        "shortest_time_dijkstra = dijkstra_shortest_path(m, target)\n",
        "shortest_time_dijkstra"
      ],
      "metadata": {
        "colab": {
          "base_uri": "https://localhost:8080/"
        },
        "id": "zuVEt5RZLNAU",
        "outputId": "04634735-f131-4ff7-bf57-9c8600ec546c"
      },
      "execution_count": 17,
      "outputs": [
        {
          "output_type": "execute_result",
          "data": {
            "text/plain": [
              "1032"
            ]
          },
          "metadata": {},
          "execution_count": 17
        }
      ]
    }
  ]
}