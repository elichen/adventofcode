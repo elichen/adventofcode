{
  "nbformat": 4,
  "nbformat_minor": 0,
  "metadata": {
    "colab": {
      "provenance": [],
      "authorship_tag": "ABX9TyPPt6gm1HVQ1fQBRdw4Gr7O",
      "include_colab_link": true
    },
    "kernelspec": {
      "name": "python3",
      "display_name": "Python 3"
    },
    "language_info": {
      "name": "python"
    }
  },
  "cells": [
    {
      "cell_type": "markdown",
      "metadata": {
        "id": "view-in-github",
        "colab_type": "text"
      },
      "source": [
        "<a href=\"https://colab.research.google.com/github/elichen/aoc2018/blob/main/Day_8_Memory_Maneuver.ipynb\" target=\"_parent\"><img src=\"https://colab.research.google.com/assets/colab-badge.svg\" alt=\"Open In Colab\"/></a>"
      ]
    },
    {
      "cell_type": "code",
      "execution_count": null,
      "metadata": {
        "id": "2TTqafeAnPtx"
      },
      "outputs": [],
      "source": [
        "data = \"2 3 0 3 10 11 12 1 1 0 1 99 2 1 1 2\""
      ]
    },
    {
      "cell_type": "code",
      "source": [
        "data = open(\"input.txt\").read()"
      ],
      "metadata": {
        "id": "yLhScvPoqIxG"
      },
      "execution_count": null,
      "outputs": []
    },
    {
      "cell_type": "code",
      "source": [
        "class Node:\n",
        "    def __init__(self):\n",
        "        self.children = []\n",
        "        self.metadata = []\n",
        "\n",
        "    def to_string(self, label='A', depth=0):\n",
        "        result = f\"{label}: {len(self.children)} children, Metadata: {self.metadata}\\n\"\n",
        "        child_labels = [chr(ord('A') + depth + i + 1) for i in range(len(self.children))]\n",
        "        for i, child in enumerate(self.children):\n",
        "            result += child.to_string(child_labels[i], depth + 1)\n",
        "        return result\n",
        "\n",
        "def parse_tree(data):\n",
        "    data = iter(map(int, data.split()))\n",
        "    def build_node():\n",
        "        node = Node()\n",
        "        num_children = next(data)\n",
        "        num_metadata = next(data)\n",
        "\n",
        "        for _ in range(num_children):\n",
        "            node.children.append(build_node())\n",
        "\n",
        "        node.metadata.extend([next(data) for _ in range(num_metadata)])\n",
        "        return node\n",
        "\n",
        "    return build_node()\n",
        "\n",
        "root = parse_tree(data)"
      ],
      "metadata": {
        "id": "c1SiD8JGnVTy"
      },
      "execution_count": null,
      "outputs": []
    },
    {
      "cell_type": "code",
      "source": [
        "def sum_metadata(node):\n",
        "    total = sum(node.metadata)\n",
        "    for child in node.children:\n",
        "        total += sum_metadata(child)\n",
        "    return total\n",
        "\n",
        "# Test the function with the previously created tree\n",
        "sum_metadata(root)"
      ],
      "metadata": {
        "colab": {
          "base_uri": "https://localhost:8080/"
        },
        "id": "pTlZwpYVpinZ",
        "outputId": "51677311-6d37-49b1-9f47-a98047b34973"
      },
      "execution_count": null,
      "outputs": [
        {
          "output_type": "execute_result",
          "data": {
            "text/plain": [
              "38567"
            ]
          },
          "metadata": {},
          "execution_count": 40
        }
      ]
    },
    {
      "cell_type": "code",
      "source": [
        "def calculate_node_value(node):\n",
        "    # If the node has no children, its value is the sum of its metadata entries\n",
        "    if not node.children:\n",
        "        return sum(node.metadata)\n",
        "    else:\n",
        "        # If the node has children, metadata entries are treated as references to child nodes\n",
        "        value = 0\n",
        "        for index in node.metadata:\n",
        "            # Subtract 1 because metadata is 1-indexed but our list is 0-indexed\n",
        "            if 0 < index <= len(node.children):\n",
        "                value += calculate_node_value(node.children[index - 1])\n",
        "        return value\n",
        "\n",
        "# Test the function with the previously created tree\n",
        "calculate_node_value(root)\n"
      ],
      "metadata": {
        "colab": {
          "base_uri": "https://localhost:8080/"
        },
        "id": "crcn7nZ47smk",
        "outputId": "73d6107d-c755-426e-a107-435e38ed936f"
      },
      "execution_count": null,
      "outputs": [
        {
          "output_type": "execute_result",
          "data": {
            "text/plain": [
              "24453"
            ]
          },
          "metadata": {},
          "execution_count": 41
        }
      ]
    }
  ]
}