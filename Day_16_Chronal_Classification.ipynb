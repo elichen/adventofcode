{
  "nbformat": 4,
  "nbformat_minor": 0,
  "metadata": {
    "colab": {
      "provenance": [],
      "authorship_tag": "ABX9TyPckYUhKFj1/oZwXjUck9/P",
      "include_colab_link": true
    },
    "kernelspec": {
      "name": "python3",
      "display_name": "Python 3"
    },
    "language_info": {
      "name": "python"
    }
  },
  "cells": [
    {
      "cell_type": "markdown",
      "metadata": {
        "id": "view-in-github",
        "colab_type": "text"
      },
      "source": [
        "<a href=\"https://colab.research.google.com/github/elichen/adventofcode/blob/main/Day_16_Chronal_Classification.ipynb\" target=\"_parent\"><img src=\"https://colab.research.google.com/assets/colab-badge.svg\" alt=\"Open In Colab\"/></a>"
      ]
    },
    {
      "cell_type": "code",
      "execution_count": 132,
      "metadata": {
        "id": "XzujJJ1LMrFt"
      },
      "outputs": [],
      "source": [
        "class Device:\n",
        "    def __init__(self):\n",
        "        self.registers = [0, 0, 0, 0]\n",
        "\n",
        "    def execute(self, instruction):\n",
        "        opcode, a, b, c = instruction\n",
        "        getattr(self, opcode)(a, b, c)\n",
        "\n",
        "    def addr(self, a, b, c):\n",
        "        self.registers[c] = self.registers[a] + self.registers[b]\n",
        "\n",
        "    def addi(self, a, b, c):\n",
        "        self.registers[c] = self.registers[a] + b\n",
        "\n",
        "    def mulr(self, a, b, c):\n",
        "        self.registers[c] = self.registers[a] * self.registers[b]\n",
        "\n",
        "    def muli(self, a, b, c):\n",
        "        self.registers[c] = self.registers[a] * b\n",
        "\n",
        "    def banr(self, a, b, c):\n",
        "        self.registers[c] = self.registers[a] & self.registers[b]\n",
        "\n",
        "    def bani(self, a, b, c):\n",
        "        self.registers[c] = self.registers[a] & b\n",
        "\n",
        "    def borr(self, a, b, c):\n",
        "        self.registers[c] = self.registers[a] | self.registers[b]\n",
        "\n",
        "    def bori(self, a, b, c):\n",
        "        self.registers[c] = self.registers[a] | b\n",
        "\n",
        "    def setr(self, a, _, c):\n",
        "        self.registers[c] = self.registers[a]\n",
        "\n",
        "    def seti(self, a, _, c):\n",
        "        self.registers[c] = a\n",
        "\n",
        "    def gtir(self, a, b, c):\n",
        "        self.registers[c] = 1 if a > self.registers[b] else 0\n",
        "\n",
        "    def gtri(self, a, b, c):\n",
        "        self.registers[c] = 1 if self.registers[a] > b else 0\n",
        "\n",
        "    def gtrr(self, a, b, c):\n",
        "        self.registers[c] = 1 if self.registers[a] > self.registers[b] else 0\n",
        "\n",
        "    def eqir(self, a, b, c):\n",
        "        self.registers[c] = 1 if a == self.registers[b] else 0\n",
        "\n",
        "    def eqri(self, a, b, c):\n",
        "        self.registers[c] = 1 if self.registers[a] == b else 0\n",
        "\n",
        "    def eqrr(self, a, b, c):\n",
        "        self.registers[c] = 1 if self.registers[a] == self.registers[b] else 0"
      ]
    },
    {
      "cell_type": "code",
      "source": [
        "import inspect\n",
        "\n",
        "def list_opcodes(cls):\n",
        "    return [name for name, obj in inspect.getmembers(cls, predicate=inspect.isfunction) if not name.startswith('__') and name != 'execute']\n",
        "opcodes = list_opcodes(Device)"
      ],
      "metadata": {
        "id": "1hIWsgJqRRlL"
      },
      "execution_count": 133,
      "outputs": []
    },
    {
      "cell_type": "code",
      "source": [
        "data = \"\"\"Before: [2, 1, 1, 0]\n",
        "5 1 0 1\n",
        "After:  [2, 0, 1, 0]\n",
        "\n",
        "Before: [3, 0, 3, 3]\n",
        "13 0 3 1\n",
        "After:  [3, 1, 3, 3]\n",
        "\n",
        "Before: [2, 2, 1, 2]\n",
        "7 3 3 2\n",
        "After:  [2, 2, 0, 2]\"\"\".split('\\n')"
      ],
      "metadata": {
        "id": "K2qCwKkmSR6I"
      },
      "execution_count": 134,
      "outputs": []
    },
    {
      "cell_type": "code",
      "source": [
        "data = [x.rstrip() for x in open(\"input.txt\").readlines()]"
      ],
      "metadata": {
        "id": "y_4yErwgTwwg"
      },
      "execution_count": 135,
      "outputs": []
    },
    {
      "cell_type": "code",
      "source": [
        "def parse_instructions(lines):\n",
        "    result = []\n",
        "    i = 0\n",
        "    while i < len(lines):\n",
        "        if lines[i].startswith('Before:'):\n",
        "            before = [int(x) for x in lines[i].split('[')[1].split(']')[0].split(', ')]\n",
        "            instruction = [int(x) for x in lines[i + 1].split(' ')]\n",
        "            after = [int(x) for x in lines[i + 2].split('[')[1].split(']')[0].split(', ')]\n",
        "            result.append((before, instruction, after))\n",
        "            i += 4  # Skip to the next 'Before:' line\n",
        "        else:\n",
        "            i += 1  # Move to the next line\n",
        "    return result\n",
        "\n",
        "parsed_data = parse_instructions(data)"
      ],
      "metadata": {
        "id": "LkM738qSSyrN"
      },
      "execution_count": 136,
      "outputs": []
    },
    {
      "cell_type": "code",
      "source": [
        "total = 0\n",
        "for sample in parsed_data:\n",
        "  device = Device()\n",
        "  ops = 0\n",
        "  for op in opcodes:\n",
        "    device.registers = sample[0].copy()\n",
        "    param = sample[1].copy()\n",
        "    param[0] = op\n",
        "    device.execute(param)\n",
        "    if device.registers == sample[2]:\n",
        "      ops += 1\n",
        "  if ops >= 3: total += 1\n",
        "  if ops == 0:\n",
        "    print(sample)\n",
        "    device.registers = sample[0]\n",
        "    param[0] = \"eqri\"\n",
        "    device.execute(param)\n",
        "    print(device.registers)\n",
        "total"
      ],
      "metadata": {
        "colab": {
          "base_uri": "https://localhost:8080/"
        },
        "id": "_50x3AgdQuYq",
        "outputId": "831f27c7-1b59-4aee-d1e5-25663c0bb499"
      },
      "execution_count": 137,
      "outputs": [
        {
          "output_type": "execute_result",
          "data": {
            "text/plain": [
              "646"
            ]
          },
          "metadata": {},
          "execution_count": 137
        }
      ]
    },
    {
      "cell_type": "code",
      "source": [
        "id_to_op = {\n",
        "    0:\"seti\",\n",
        "    1:\"eqir\",\n",
        "    2:\"setr\",\n",
        "    3:\"gtir\",\n",
        "    4:\"addi\",\n",
        "    5:\"muli\",\n",
        "    6:\"mulr\",\n",
        "    7:\"gtrr\",\n",
        "    8:\"bani\",\n",
        "    9:\"gtri\",\n",
        "    10:\"bori\",\n",
        "    11:\"banr\",\n",
        "    12:\"borr\",\n",
        "    13:\"eqri\",\n",
        "    14:\"eqrr\",\n",
        "    15:\"addr\",\n",
        "}"
      ],
      "metadata": {
        "id": "dV50omG9nOt2"
      },
      "execution_count": 138,
      "outputs": []
    },
    {
      "cell_type": "code",
      "source": [
        "for sample in parsed_data:\n",
        "  device = Device()\n",
        "  ops = 0\n",
        "  possibles = set()\n",
        "  for op in opcodes:\n",
        "    if op not in id_to_op.values():\n",
        "      device.registers = sample[0].copy()\n",
        "      param = sample[1].copy()\n",
        "      param[0] = op\n",
        "      device.execute(param)\n",
        "      if device.registers == sample[2]:\n",
        "        ops += 1\n",
        "        possibles.add(op)\n",
        "  if ops == 1:\n",
        "    print(possibles, sample)\n",
        "id_to_op"
      ],
      "metadata": {
        "colab": {
          "base_uri": "https://localhost:8080/"
        },
        "id": "-JUAGGxBj_Ie",
        "outputId": "da706645-0809-4ee6-8073-d00510da8270"
      },
      "execution_count": 139,
      "outputs": [
        {
          "output_type": "execute_result",
          "data": {
            "text/plain": [
              "{0: 'seti',\n",
              " 1: 'eqir',\n",
              " 2: 'setr',\n",
              " 3: 'gtir',\n",
              " 4: 'addi',\n",
              " 5: 'muli',\n",
              " 6: 'mulr',\n",
              " 7: 'gtrr',\n",
              " 8: 'bani',\n",
              " 9: 'gtri',\n",
              " 10: 'bori',\n",
              " 11: 'banr',\n",
              " 12: 'borr',\n",
              " 13: 'eqri',\n",
              " 14: 'eqrr',\n",
              " 15: 'addr'}"
            ]
          },
          "metadata": {},
          "execution_count": 139
        }
      ]
    },
    {
      "cell_type": "code",
      "source": [
        "for sample in parsed_data:\n",
        "  device = Device()\n",
        "  ops = 0\n",
        "  possibles = set()\n",
        "  for op in opcodes:\n",
        "    if op not in id_to_op.values():\n",
        "      device.registers = sample[0].copy()\n",
        "      param = sample[1].copy()\n",
        "      param[0] = op\n",
        "      device.execute(param)\n",
        "      if device.registers == sample[2]:\n",
        "        ops += 1\n",
        "        possibles.add(op)\n",
        "  if ops == 1:\n",
        "    print(possibles, sample)\n",
        "id_to_op"
      ],
      "metadata": {
        "colab": {
          "base_uri": "https://localhost:8080/"
        },
        "id": "XNBz23G-o2QU",
        "outputId": "c95f36d8-87b4-41d2-e04d-9b5a0e5e4415"
      },
      "execution_count": 140,
      "outputs": [
        {
          "output_type": "execute_result",
          "data": {
            "text/plain": [
              "{0: 'seti',\n",
              " 1: 'eqir',\n",
              " 2: 'setr',\n",
              " 3: 'gtir',\n",
              " 4: 'addi',\n",
              " 5: 'muli',\n",
              " 6: 'mulr',\n",
              " 7: 'gtrr',\n",
              " 8: 'bani',\n",
              " 9: 'gtri',\n",
              " 10: 'bori',\n",
              " 11: 'banr',\n",
              " 12: 'borr',\n",
              " 13: 'eqri',\n",
              " 14: 'eqrr',\n",
              " 15: 'addr'}"
            ]
          },
          "metadata": {},
          "execution_count": 140
        }
      ]
    },
    {
      "cell_type": "code",
      "source": [
        "def parse_4_number_tuples(data):\n",
        "    # Find the first empty line from the end, which marks the beginning of the 4-number tuples\n",
        "    start_index = len(data) - 1\n",
        "    while start_index >= 0 and data[start_index].strip() != '':\n",
        "        start_index -= 1\n",
        "\n",
        "    # Parsing tuples starting from the line after the empty line\n",
        "    tuples = []\n",
        "    for line in data[start_index + 1:]:\n",
        "        tuples.append(tuple(map(int, line.split())))\n",
        "\n",
        "    return tuples\n",
        "\n",
        "parsed_tuples = parse_4_number_tuples(data)"
      ],
      "metadata": {
        "id": "eQhEhZxRqWLF"
      },
      "execution_count": 142,
      "outputs": []
    },
    {
      "cell_type": "code",
      "source": [
        "device = Device()\n",
        "for sample in parsed_tuples:\n",
        "      param = list(sample)\n",
        "      param[0] = id_to_op[param[0]]\n",
        "      device.execute(param)\n",
        "device.registers"
      ],
      "metadata": {
        "colab": {
          "base_uri": "https://localhost:8080/"
        },
        "id": "q8qHelZ2q3uV",
        "outputId": "0cb15ca9-45e0-427c-8fc7-df102a8f1399"
      },
      "execution_count": 146,
      "outputs": [
        {
          "output_type": "execute_result",
          "data": {
            "text/plain": [
              "[681, 681, 3, 0]"
            ]
          },
          "metadata": {},
          "execution_count": 146
        }
      ]
    }
  ]
}