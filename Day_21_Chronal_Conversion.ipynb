{
  "nbformat": 4,
  "nbformat_minor": 0,
  "metadata": {
    "colab": {
      "provenance": [],
      "authorship_tag": "ABX9TyPMOWJXtoi6z5YspaZrpGuj",
      "include_colab_link": true
    },
    "kernelspec": {
      "name": "python3",
      "display_name": "Python 3"
    },
    "language_info": {
      "name": "python"
    }
  },
  "cells": [
    {
      "cell_type": "markdown",
      "metadata": {
        "id": "view-in-github",
        "colab_type": "text"
      },
      "source": [
        "<a href=\"https://colab.research.google.com/github/elichen/aoc2018/blob/main/Day_21_Chronal_Conversion.ipynb\" target=\"_parent\"><img src=\"https://colab.research.google.com/assets/colab-badge.svg\" alt=\"Open In Colab\"/></a>"
      ]
    },
    {
      "cell_type": "code",
      "execution_count": 2,
      "metadata": {
        "id": "XzujJJ1LMrFt"
      },
      "outputs": [],
      "source": [
        "class Device:\n",
        "    def __init__(self):\n",
        "        self.registers = [0, 0, 0, 0, 0, 0]\n",
        "        self.ip = 0\n",
        "        self.ip_binding = None\n",
        "\n",
        "    def execute(self, instruction):\n",
        "        if self.ip_binding != None: self.registers[self.ip_binding] = self.ip\n",
        "        opcode, a, b, c = instruction\n",
        "        getattr(self, opcode)(a, b, c)\n",
        "        if self.ip_binding != None: self.ip = self.registers[self.ip_binding]\n",
        "\n",
        "    def addr(self, a, b, c):\n",
        "        self.registers[c] = self.registers[a] + self.registers[b]\n",
        "\n",
        "    def addi(self, a, b, c):\n",
        "        self.registers[c] = self.registers[a] + b\n",
        "\n",
        "    def mulr(self, a, b, c):\n",
        "        self.registers[c] = self.registers[a] * self.registers[b]\n",
        "\n",
        "    def muli(self, a, b, c):\n",
        "        self.registers[c] = self.registers[a] * b\n",
        "\n",
        "    def banr(self, a, b, c):\n",
        "        self.registers[c] = self.registers[a] & self.registers[b]\n",
        "\n",
        "    def bani(self, a, b, c):\n",
        "        self.registers[c] = self.registers[a] & b\n",
        "\n",
        "    def borr(self, a, b, c):\n",
        "        self.registers[c] = self.registers[a] | self.registers[b]\n",
        "\n",
        "    def bori(self, a, b, c):\n",
        "        self.registers[c] = self.registers[a] | b\n",
        "\n",
        "    def setr(self, a, _, c):\n",
        "        self.registers[c] = self.registers[a]\n",
        "\n",
        "    def seti(self, a, _, c):\n",
        "        self.registers[c] = a\n",
        "\n",
        "    def gtir(self, a, b, c):\n",
        "        self.registers[c] = 1 if a > self.registers[b] else 0\n",
        "\n",
        "    def gtri(self, a, b, c):\n",
        "        self.registers[c] = 1 if self.registers[a] > b else 0\n",
        "\n",
        "    def gtrr(self, a, b, c):\n",
        "        self.registers[c] = 1 if self.registers[a] > self.registers[b] else 0\n",
        "\n",
        "    def eqir(self, a, b, c):\n",
        "        self.registers[c] = 1 if a == self.registers[b] else 0\n",
        "\n",
        "    def eqri(self, a, b, c):\n",
        "        self.registers[c] = 1 if self.registers[a] == b else 0\n",
        "\n",
        "    def eqrr(self, a, b, c):\n",
        "        self.registers[c] = 1 if self.registers[a] == self.registers[b] else 0"
      ]
    },
    {
      "cell_type": "code",
      "source": [
        "data = \"\"\"#ip 5\n",
        "seti 123 0 4\n",
        "bani 4 456 4\n",
        "eqri 4 72 4\n",
        "addr 4 5 5\n",
        "seti 0 0 5\n",
        "seti 0 8 4\n",
        "bori 4 65536 3\n",
        "seti 707129 0 4\n",
        "bani 3 255 2\n",
        "addr 4 2 4\n",
        "bani 4 16777215 4\n",
        "muli 4 65899 4\n",
        "bani 4 16777215 4\n",
        "gtir 256 3 2\n",
        "addr 2 5 5\n",
        "addi 5 1 5\n",
        "seti 27 6 5\n",
        "seti 0 7 2\n",
        "addi 2 1 1\n",
        "muli 1 256 1\n",
        "gtrr 1 3 1\n",
        "addr 1 5 5\n",
        "addi 5 1 5\n",
        "seti 25 2 5\n",
        "addi 2 1 2\n",
        "seti 17 1 5\n",
        "setr 2 4 3\n",
        "seti 7 4 5\n",
        "eqrr 4 0 2\n",
        "addr 2 5 5\n",
        "seti 5 2 5\"\"\".split('\\n')"
      ],
      "metadata": {
        "id": "y_4yErwgTwwg"
      },
      "execution_count": 3,
      "outputs": []
    },
    {
      "cell_type": "code",
      "source": [
        "def parse_instructions(input_list):\n",
        "    ip_binding = None\n",
        "    instructions = []\n",
        "\n",
        "    for line in input_list:\n",
        "        if line.startswith('#ip'):\n",
        "            ip_binding = int(line.split()[1])\n",
        "        else:\n",
        "            parts = line.split()\n",
        "            opcode = parts[0]\n",
        "            operands = list(map(int, parts[1:]))\n",
        "            instructions.append((opcode, *operands))\n",
        "\n",
        "    return ip_binding, instructions"
      ],
      "metadata": {
        "id": "yjddxlZcS67g"
      },
      "execution_count": 4,
      "outputs": []
    },
    {
      "cell_type": "code",
      "source": [
        "device = Device()\n",
        "ip_binding, instructions = parse_instructions(data)\n",
        "device.ip_binding = ip_binding\n",
        "# device.registers[0] = 2985446\n",
        "# while device.ip < len(instructions):\n",
        "for _ in range(10000):\n",
        "    line = instructions[device.ip]\n",
        "    if device.ip+2 == 30:\n",
        "      print(device.ip+2, line, device.registers)\n",
        "    device.execute(line)\n",
        "    device.ip += 1\n",
        "device.registers"
      ],
      "metadata": {
        "colab": {
          "base_uri": "https://localhost:8080/"
        },
        "id": "EHEyR0jCHR2T",
        "outputId": "7d3a00ec-ecb3-40f4-8638-fa03eb85ed18"
      },
      "execution_count": 5,
      "outputs": [
        {
          "output_type": "stream",
          "name": "stdout",
          "text": [
            "30 ('eqrr', 4, 0, 2) [0, 1, 1, 1, 2985446, 27]\n"
          ]
        },
        {
          "output_type": "execute_result",
          "data": {
            "text/plain": [
              "[0, 0, 1163, 2985446, 7144693, 24]"
            ]
          },
          "metadata": {},
          "execution_count": 5
        }
      ]
    },
    {
      "cell_type": "code",
      "source": [
        "device = Device()\n",
        "ip_binding, instructions = parse_instructions(data)\n",
        "device.ip_binding = ip_binding\n",
        "# device.registers[0] = 2985446\n",
        "seen = []\n",
        "while device.ip < len(instructions):\n",
        "# for _ in range(100):\n",
        "    line = instructions[device.ip]\n",
        "\n",
        "    if device.ip+2 == 30:\n",
        "      print(device.ip+2, line, device.registers)\n",
        "      if len(seen) >= 100:\n",
        "        break\n",
        "      seen.append(device.registers[4])\n",
        "      # if device.registers[4] not in seen:\n",
        "      #   seen.add(device.registers[4])\n",
        "      # else:\n",
        "      #   print(device.registers[4])\n",
        "      #   break\n",
        "\n",
        "    device.execute(line)\n",
        "    device.ip += 1"
      ],
      "metadata": {
        "colab": {
          "base_uri": "https://localhost:8080/"
        },
        "id": "CcFHpzEmWNV6",
        "outputId": "369e661a-2b4a-4e95-bbb6-dee0bb14e882"
      },
      "execution_count": 61,
      "outputs": [
        {
          "output_type": "stream",
          "name": "stdout",
          "text": [
            "30 ('eqrr', 4, 0, 2) [0, 1, 1, 1, 2985446, 27]\n",
            "30 ('eqrr', 4, 0, 2) [0, 1, 1, 45, 11615937, 27]\n",
            "30 ('eqrr', 4, 0, 2) [0, 1, 1, 177, 14240471, 27]\n",
            "30 ('eqrr', 4, 0, 2) [0, 1, 1, 217, 9212765, 27]\n",
            "30 ('eqrr', 4, 0, 2) [0, 1, 1, 141, 8908492, 27]\n",
            "30 ('eqrr', 4, 0, 2) [0, 1, 1, 135, 6710794, 27]\n",
            "30 ('eqrr', 4, 0, 2) [0, 1, 1, 103, 14012284, 27]\n",
            "30 ('eqrr', 4, 0, 2) [0, 1, 1, 213, 501325, 27]\n",
            "30 ('eqrr', 4, 0, 2) [0, 1, 1, 7, 12296021, 27]\n",
            "30 ('eqrr', 4, 0, 2) [0, 1, 1, 187, 11496986, 27]\n",
            "30 ('eqrr', 4, 0, 2) [0, 1, 1, 175, 2887820, 27]\n",
            "30 ('eqrr', 4, 0, 2) [0, 1, 1, 45, 8549694, 27]\n",
            "30 ('eqrr', 4, 0, 2) [0, 1, 1, 131, 9887971, 27]\n",
            "30 ('eqrr', 4, 0, 2) [0, 1, 1, 151, 1450513, 27]\n",
            "30 ('eqrr', 4, 0, 2) [0, 1, 1, 23, 4631341, 27]\n",
            "30 ('eqrr', 4, 0, 2) [0, 1, 1, 71, 9993554, 27]\n",
            "30 ('eqrr', 4, 0, 2) [0, 1, 1, 153, 13519961, 27]\n",
            "30 ('eqrr', 4, 0, 2) [0, 1, 1, 207, 13507015, 27]\n",
            "30 ('eqrr', 4, 0, 2) [0, 1, 1, 207, 14432918, 27]\n",
            "30 ('eqrr', 4, 0, 2) [0, 1, 1, 221, 13925478, 27]\n",
            "30 ('eqrr', 4, 0, 2) [0, 1, 1, 213, 9688368, 27]\n",
            "30 ('eqrr', 4, 0, 2) [0, 1, 1, 147, 6549609, 27]\n",
            "30 ('eqrr', 4, 0, 2) [0, 1, 1, 99, 1115223, 27]\n",
            "30 ('eqrr', 4, 0, 2) [0, 1, 1, 17, 4493231, 27]\n",
            "30 ('eqrr', 4, 0, 2) [0, 1, 1, 69, 7213158, 27]\n",
            "30 ('eqrr', 4, 0, 2) [0, 1, 1, 111, 794242, 27]\n",
            "30 ('eqrr', 4, 0, 2) [0, 1, 1, 13, 119486, 27]\n",
            "30 ('eqrr', 4, 0, 2) [0, 1, 1, 1, 16469826, 27]\n",
            "30 ('eqrr', 4, 0, 2) [0, 1, 1, 251, 1217761, 27]\n",
            "30 ('eqrr', 4, 0, 2) [0, 1, 1, 19, 6741843, 27]\n",
            "30 ('eqrr', 4, 0, 2) [0, 1, 1, 103, 5368984, 27]\n",
            "30 ('eqrr', 4, 0, 2) [0, 1, 1, 81, 8606506, 27]\n",
            "30 ('eqrr', 4, 0, 2) [0, 1, 1, 131, 8736213, 27]\n",
            "30 ('eqrr', 4, 0, 2) [0, 1, 1, 133, 11955142, 27]\n",
            "30 ('eqrr', 4, 0, 2) [0, 1, 1, 183, 15735677, 27]\n",
            "30 ('eqrr', 4, 0, 2) [0, 1, 1, 241, 4636736, 27]\n",
            "30 ('eqrr', 4, 0, 2) [0, 1, 1, 71, 11341992, 27]\n",
            "30 ('eqrr', 4, 0, 2) [0, 1, 1, 173, 9126866, 27]\n",
            "30 ('eqrr', 4, 0, 2) [0, 1, 1, 139, 4047893, 27]\n",
            "30 ('eqrr', 4, 0, 2) [0, 1, 1, 61, 3279725, 27]\n",
            "30 ('eqrr', 4, 0, 2) [0, 1, 1, 51, 12173846, 27]\n",
            "30 ('eqrr', 4, 0, 2) [0, 1, 1, 185, 234018, 27]\n",
            "30 ('eqrr', 4, 0, 2) [0, 1, 1, 3, 418116, 27]\n",
            "30 ('eqrr', 4, 0, 2) [0, 1, 1, 7, 5710989, 27]\n",
            "30 ('eqrr', 4, 0, 2) [0, 1, 1, 87, 9552787, 27]\n",
            "30 ('eqrr', 4, 0, 2) [0, 1, 1, 145, 1241258, 27]\n",
            "30 ('eqrr', 4, 0, 2) [0, 1, 1, 19, 16548858, 27]\n",
            "30 ('eqrr', 4, 0, 2) [0, 1, 1, 253, 7569651, 27]\n",
            "30 ('eqrr', 4, 0, 2) [0, 1, 1, 115, 4107989, 27]\n",
            "30 ('eqrr', 4, 0, 2) [0, 1, 1, 63, 4788381, 27]\n",
            "30 ('eqrr', 4, 0, 2) [0, 1, 1, 73, 15810165, 27]\n",
            "30 ('eqrr', 4, 0, 2) [0, 1, 1, 241, 11025651, 27]\n",
            "30 ('eqrr', 4, 0, 2) [0, 1, 1, 169, 1327683, 27]\n",
            "30 ('eqrr', 4, 0, 2) [0, 1, 1, 21, 3671981, 27]\n",
            "30 ('eqrr', 4, 0, 2) [0, 1, 1, 57, 9884788, 27]\n",
            "30 ('eqrr', 4, 0, 2) [0, 1, 1, 151, 14317928, 27]\n",
            "30 ('eqrr', 4, 0, 2) [0, 1, 1, 219, 1805869, 27]\n",
            "30 ('eqrr', 4, 0, 2) [0, 1, 1, 27, 15986681, 27]\n",
            "30 ('eqrr', 4, 0, 2) [0, 1, 1, 243, 8764542, 27]\n",
            "30 ('eqrr', 4, 0, 2) [0, 1, 1, 133, 12106184, 27]\n",
            "30 ('eqrr', 4, 0, 2) [0, 1, 1, 185, 13413207, 27]\n",
            "30 ('eqrr', 4, 0, 2) [0, 1, 1, 205, 15425778, 27]\n",
            "30 ('eqrr', 4, 0, 2) [0, 1, 1, 235, 11675018, 27]\n",
            "30 ('eqrr', 4, 0, 2) [0, 1, 1, 179, 12039111, 27]\n",
            "30 ('eqrr', 4, 0, 2) [0, 1, 1, 183, 11910104, 27]\n",
            "30 ('eqrr', 4, 0, 2) [0, 1, 1, 181, 13004877, 27]\n",
            "30 ('eqrr', 4, 0, 2) [0, 1, 1, 199, 15473807, 27]\n",
            "30 ('eqrr', 4, 0, 2) [0, 1, 1, 237, 7486243, 27]\n",
            "30 ('eqrr', 4, 0, 2) [0, 1, 1, 115, 1240968, 27]\n",
            "30 ('eqrr', 4, 0, 2) [0, 1, 1, 19, 8339003, 27]\n",
            "30 ('eqrr', 4, 0, 2) [0, 1, 1, 127, 1814655, 27]\n",
            "30 ('eqrr', 4, 0, 2) [0, 1, 1, 27, 3333921, 27]\n",
            "30 ('eqrr', 4, 0, 2) [0, 1, 1, 51, 2792102, 27]\n",
            "30 ('eqrr', 4, 0, 2) [0, 1, 1, 43, 7359120, 27]\n",
            "30 ('eqrr', 4, 0, 2) [0, 1, 1, 113, 13296864, 27]\n",
            "30 ('eqrr', 4, 0, 2) [0, 1, 1, 203, 10215864, 27]\n",
            "30 ('eqrr', 4, 0, 2) [0, 1, 1, 155, 2173061, 27]\n",
            "30 ('eqrr', 4, 0, 2) [0, 1, 1, 33, 9740109, 27]\n",
            "30 ('eqrr', 4, 0, 2) [0, 1, 1, 149, 6444448, 27]\n",
            "30 ('eqrr', 4, 0, 2) [0, 1, 1, 99, 5420073, 27]\n",
            "30 ('eqrr', 4, 0, 2) [0, 1, 1, 83, 2700683, 27]\n",
            "30 ('eqrr', 4, 0, 2) [0, 1, 1, 41, 11663356, 27]\n",
            "30 ('eqrr', 4, 0, 2) [0, 1, 1, 177, 1182121, 27]\n",
            "30 ('eqrr', 4, 0, 2) [0, 1, 1, 19, 864952, 27]\n",
            "30 ('eqrr', 4, 0, 2) [0, 1, 1, 13, 15237812, 27]\n",
            "30 ('eqrr', 4, 0, 2) [0, 1, 1, 233, 3351340, 27]\n",
            "30 ('eqrr', 4, 0, 2) [0, 1, 1, 51, 12456539, 27]\n",
            "30 ('eqrr', 4, 0, 2) [0, 1, 1, 191, 14097875, 27]\n",
            "30 ('eqrr', 4, 0, 2) [0, 1, 1, 215, 8299702, 27]\n",
            "30 ('eqrr', 4, 0, 2) [0, 1, 1, 127, 8561174, 27]\n",
            "30 ('eqrr', 4, 0, 2) [0, 1, 1, 131, 13430384, 27]\n",
            "30 ('eqrr', 4, 0, 2) [0, 1, 1, 205, 15571832, 27]\n",
            "30 ('eqrr', 4, 0, 2) [0, 1, 1, 237, 2869621, 27]\n",
            "30 ('eqrr', 4, 0, 2) [0, 1, 1, 43, 2793124, 27]\n",
            "30 ('eqrr', 4, 0, 2) [0, 1, 1, 43, 13016270, 27]\n",
            "30 ('eqrr', 4, 0, 2) [0, 1, 1, 199, 8362542, 27]\n",
            "30 ('eqrr', 4, 0, 2) [0, 1, 1, 127, 8223428, 27]\n",
            "30 ('eqrr', 4, 0, 2) [0, 1, 1, 125, 5519728, 27]\n",
            "30 ('eqrr', 4, 0, 2) [0, 1, 1, 85, 12256387, 27]\n",
            "30 ('eqrr', 4, 0, 2) [0, 1, 1, 187, 12934913, 27]\n",
            "30 ('eqrr', 4, 0, 2) [0, 1, 1, 197, 2130636, 27]\n"
          ]
        }
      ]
    },
    {
      "cell_type": "code",
      "source": [
        "def simulate_cases_5_6_8():\n",
        "    register = [0] * 6\n",
        "    register[4] = 0\n",
        "    seen = set()\n",
        "    prev = None\n",
        "\n",
        "    while True:\n",
        "\n",
        "        # Case 6\n",
        "        register[3] = register[4] | 65536\n",
        "        register[4] = 707129\n",
        "\n",
        "        while True:\n",
        "            register[2] = register[3] & 255\n",
        "            register[4] += register[2]\n",
        "            register[4] &= 16777215\n",
        "            register[4] *= 65899\n",
        "            register[4] &= 16777215\n",
        "\n",
        "            if 256 > register[3]:\n",
        "                break\n",
        "            else:\n",
        "                register[2] = register[3] // 256\n",
        "                register[3] = register[2]\n",
        "\n",
        "        # Case 8\n",
        "        if register[4] in seen:\n",
        "          print(prev, len(seen))\n",
        "          break\n",
        "        else:\n",
        "          seen.add(register[4])\n",
        "          prev = register[4]\n",
        "\n",
        "simulate_cases_5_6_8()"
      ],
      "metadata": {
        "colab": {
          "base_uri": "https://localhost:8080/"
        },
        "id": "YOfvOl-U3m7q",
        "outputId": "2646504f-6660-4278-88d3-f582f9e8d75a"
      },
      "execution_count": 90,
      "outputs": [
        {
          "output_type": "stream",
          "name": "stdout",
          "text": [
            "12502875 11235\n"
          ]
        }
      ]
    }
  ]
}