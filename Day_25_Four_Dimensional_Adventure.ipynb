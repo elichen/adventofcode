{
  "nbformat": 4,
  "nbformat_minor": 0,
  "metadata": {
    "colab": {
      "provenance": [],
      "authorship_tag": "ABX9TyMGcGYLQR1X+1KKGSfc2nVX",
      "include_colab_link": true
    },
    "kernelspec": {
      "name": "python3",
      "display_name": "Python 3"
    },
    "language_info": {
      "name": "python"
    }
  },
  "cells": [
    {
      "cell_type": "markdown",
      "metadata": {
        "id": "view-in-github",
        "colab_type": "text"
      },
      "source": [
        "<a href=\"https://colab.research.google.com/github/elichen/aoc2018/blob/main/Day_25_Four_Dimensional_Adventure.ipynb\" target=\"_parent\"><img src=\"https://colab.research.google.com/assets/colab-badge.svg\" alt=\"Open In Colab\"/></a>"
      ]
    },
    {
      "cell_type": "code",
      "execution_count": 46,
      "metadata": {
        "id": "xcN5ops4PiXo"
      },
      "outputs": [],
      "source": [
        "data = \"\"\"1,-1,0,1\n",
        "2,0,-1,0\n",
        "3,2,-1,0\n",
        "0,0,3,1\n",
        "0,0,-1,-1\n",
        "2,3,-2,0\n",
        "-2,2,0,0\n",
        "2,-2,0,-1\n",
        "1,-1,0,-1\n",
        "3,2,0,2\"\"\".split('\\n')"
      ]
    },
    {
      "cell_type": "code",
      "source": [
        "data = [x.rstrip() for x in open(\"input.txt\").readlines()]"
      ],
      "metadata": {
        "id": "cR9gQ8B0S94a"
      },
      "execution_count": 47,
      "outputs": []
    },
    {
      "cell_type": "code",
      "source": [
        "def count_groups(points: List[Tuple[int, int, int, int]]) -> int:\n",
        "    \"\"\"Counts the number of groups formed based on Manhattan distance.\"\"\"\n",
        "    groups = []\n",
        "\n",
        "    for point in points:\n",
        "        # Find groups that this point can join\n",
        "        joinable_groups = [group for group in groups if any(manhattan_distance(point, other) <= 3 for other in group)]\n",
        "\n",
        "        if joinable_groups:\n",
        "            # Merge the joinable groups and add the new point\n",
        "            merged_group = [point]\n",
        "            for group in joinable_groups:\n",
        "                merged_group.extend(group)\n",
        "                groups.remove(group)\n",
        "            groups.append(merged_group)\n",
        "        else:\n",
        "            # Create a new group with the point\n",
        "            groups.append([point])\n",
        "\n",
        "    # Repeat the merging process for points already in groups until there are no more merges\n",
        "    merges_occurred = True\n",
        "    while merges_occurred:\n",
        "        merges_occurred = False\n",
        "        new_groups = []\n",
        "        while groups:\n",
        "            group = groups.pop()\n",
        "            merge_candidates = [g for g in groups if any(manhattan_distance(p1, p2) <= 3 for p1 in group for p2 in g)]\n",
        "            if merge_candidates:\n",
        "                for candidate in merge_candidates:\n",
        "                    group.extend(candidate)\n",
        "                    groups.remove(candidate)\n",
        "                merges_occurred = True\n",
        "            new_groups.append(group)\n",
        "        groups = new_groups\n",
        "\n",
        "    return len(groups)\n",
        "\n",
        "tuples = parse_string_to_tuple(data)\n",
        "group_count = count_groups(tuples)\n",
        "group_count"
      ],
      "metadata": {
        "colab": {
          "base_uri": "https://localhost:8080/"
        },
        "id": "wY5RO3eVWcRa",
        "outputId": "cb48bf78-e7fe-4322-8b03-bde737a43999"
      },
      "execution_count": 48,
      "outputs": [
        {
          "output_type": "execute_result",
          "data": {
            "text/plain": [
              "346"
            ]
          },
          "metadata": {},
          "execution_count": 48
        }
      ]
    }
  ]
}