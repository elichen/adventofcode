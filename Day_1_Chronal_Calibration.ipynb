{
  "nbformat": 4,
  "nbformat_minor": 0,
  "metadata": {
    "colab": {
      "provenance": [],
      "authorship_tag": "ABX9TyOlNOH2DvNz6A3IW/Ugv+kn",
      "include_colab_link": true
    },
    "kernelspec": {
      "name": "python3",
      "display_name": "Python 3"
    },
    "language_info": {
      "name": "python"
    }
  },
  "cells": [
    {
      "cell_type": "markdown",
      "metadata": {
        "id": "view-in-github",
        "colab_type": "text"
      },
      "source": [
        "<a href=\"https://colab.research.google.com/github/elichen/aoc2018/blob/main/Day_1_Chronal_Calibration.ipynb\" target=\"_parent\"><img src=\"https://colab.research.google.com/assets/colab-badge.svg\" alt=\"Open In Colab\"/></a>"
      ]
    },
    {
      "cell_type": "code",
      "execution_count": null,
      "metadata": {
        "id": "aWuOQT_nQ-qt"
      },
      "outputs": [],
      "source": [
        "data = \"\"\"+1\n",
        "-2\n",
        "+3\n",
        "+1\"\"\".split('\\n')"
      ]
    },
    {
      "cell_type": "code",
      "source": [
        "data = [x.rstrip() for x in open(\"input.txt\").readlines()]"
      ],
      "metadata": {
        "id": "Z0TKbIsFR939"
      },
      "execution_count": null,
      "outputs": []
    },
    {
      "cell_type": "code",
      "source": [
        "f = 0\n",
        "for line in data:\n",
        "  f += int(line)\n",
        "f"
      ],
      "metadata": {
        "colab": {
          "base_uri": "https://localhost:8080/"
        },
        "id": "6Mul60qYRkv0",
        "outputId": "a9307c02-74e2-4d44-c3bc-4c72c7d36580"
      },
      "execution_count": null,
      "outputs": [
        {
          "output_type": "execute_result",
          "data": {
            "text/plain": [
              "531"
            ]
          },
          "metadata": {},
          "execution_count": 14
        }
      ]
    },
    {
      "cell_type": "code",
      "source": [
        "f = 0\n",
        "i = 0\n",
        "seen = set()\n",
        "while True:\n",
        "  f += int(data[i])\n",
        "  if f in seen:\n",
        "    print(f)\n",
        "    break\n",
        "  seen.add(f)\n",
        "  i = (i+1)%len(data)"
      ],
      "metadata": {
        "colab": {
          "base_uri": "https://localhost:8080/"
        },
        "id": "YMfnAuuJSBe1",
        "outputId": "245309e6-2196-4fe0-c816-0e33adbf7724"
      },
      "execution_count": null,
      "outputs": [
        {
          "output_type": "stream",
          "name": "stdout",
          "text": [
            "76787\n"
          ]
        }
      ]
    }
  ]
}