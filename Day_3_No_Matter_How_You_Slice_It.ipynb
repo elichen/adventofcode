{
  "nbformat": 4,
  "nbformat_minor": 0,
  "metadata": {
    "colab": {
      "provenance": [],
      "authorship_tag": "ABX9TyMuLyicq89csVXCNQ/p/nsA",
      "include_colab_link": true
    },
    "kernelspec": {
      "name": "python3",
      "display_name": "Python 3"
    },
    "language_info": {
      "name": "python"
    }
  },
  "cells": [
    {
      "cell_type": "markdown",
      "metadata": {
        "id": "view-in-github",
        "colab_type": "text"
      },
      "source": [
        "<a href=\"https://colab.research.google.com/github/elichen/aoc2018/blob/main/Day_3_No_Matter_How_You_Slice_It.ipynb\" target=\"_parent\"><img src=\"https://colab.research.google.com/assets/colab-badge.svg\" alt=\"Open In Colab\"/></a>"
      ]
    },
    {
      "cell_type": "code",
      "execution_count": null,
      "metadata": {
        "id": "6yn7eZXdhT7J"
      },
      "outputs": [],
      "source": [
        "data = \"\"\"#1 @ 1,3: 4x4\n",
        "#2 @ 3,1: 4x4\n",
        "#3 @ 5,5: 2x2\"\"\".split('\\n')"
      ]
    },
    {
      "cell_type": "code",
      "source": [
        "data = [x.rstrip() for x in open(\"input.txt\").readlines()]"
      ],
      "metadata": {
        "id": "CTaQVp81i0SW"
      },
      "execution_count": null,
      "outputs": []
    },
    {
      "cell_type": "code",
      "source": [
        "import numpy as np\n",
        "import re\n",
        "\n",
        "def parse_claims(claims):\n",
        "    # Initialize a sufficiently large numpy array with zeros\n",
        "    fabric = np.zeros((1000, 1000))\n",
        "\n",
        "    for claim in claims:\n",
        "        # Extract claim details using regular expressions\n",
        "        match = re.match(r'#(\\d+) @ (\\d+),(\\d+): (\\d+)x(\\d+)', claim)\n",
        "        if match:\n",
        "            # Extract coordinates and dimensions\n",
        "            _, left, top, width, height = map(int, match.groups())\n",
        "\n",
        "            # Update the fabric array\n",
        "            fabric[top:top+height, left:left+width] += 1\n",
        "\n",
        "    return fabric\n",
        "\n",
        "fabric = parse_claims(data)\n",
        "np.sum(fabric > 1)"
      ],
      "metadata": {
        "colab": {
          "base_uri": "https://localhost:8080/"
        },
        "id": "lcrgI9uyhZlm",
        "outputId": "1e341d13-57c2-4c8d-b308-17cd68791e48"
      },
      "execution_count": null,
      "outputs": [
        {
          "output_type": "execute_result",
          "data": {
            "text/plain": [
              "113966"
            ]
          },
          "metadata": {},
          "execution_count": 14
        }
      ]
    },
    {
      "cell_type": "code",
      "source": [
        "def parse_and_check_claims(claims):\n",
        "    # Initialize a sufficiently large numpy array with zeros\n",
        "    fabric = np.zeros((1000, 1000))\n",
        "\n",
        "    for claim in claims:\n",
        "        # Extract claim details\n",
        "        match = re.match(r'#(\\d+) @ (\\d+),(\\d+): (\\d+)x(\\d+)', claim)\n",
        "        if match:\n",
        "            claim_id, left, top, width, height = map(int, match.groups())\n",
        "\n",
        "            # Add the claim ID to the corresponding cells in the fabric array\n",
        "            fabric[top:top+height, left:left+width] += claim_id\n",
        "\n",
        "    # Check for non-overlapping claims\n",
        "    for claim in claims:\n",
        "        match = re.match(r'#(\\d+) @ (\\d+),(\\d+): (\\d+)x(\\d+)', claim)\n",
        "        if match:\n",
        "            claim_id, left, top, width, height = map(int, match.groups())\n",
        "\n",
        "            # Check if the rectangle contains only its ID\n",
        "            if np.all(fabric[top:top+height, left:left+width] == claim_id):\n",
        "                print(f\"Claim ID {claim_id} has no overlap.\")\n",
        "\n",
        "parse_and_check_claims(data)\n"
      ],
      "metadata": {
        "colab": {
          "base_uri": "https://localhost:8080/"
        },
        "id": "o1Bxp-hOikM1",
        "outputId": "f27a7b1e-99f2-49dc-bd48-5460bd9beee4"
      },
      "execution_count": null,
      "outputs": [
        {
          "output_type": "stream",
          "name": "stdout",
          "text": [
            "Claim ID 235 has no overlap.\n"
          ]
        }
      ]
    },
    {
      "cell_type": "code",
      "source": [],
      "metadata": {
        "id": "dRZhzU9ZkBqk"
      },
      "execution_count": null,
      "outputs": []
    }
  ]
}